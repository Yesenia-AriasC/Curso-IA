{
  "nbformat": 4,
  "nbformat_minor": 0,
  "metadata": {
    "colab": {
      "provenance": [],
      "collapsed_sections": [
        "MgtWXTZM6ph_"
      ],
      "toc_visible": true,
      "include_colab_link": true
    },
    "kernelspec": {
      "name": "python3",
      "display_name": "Python 3"
    },
    "language_info": {
      "name": "python"
    },
    "gpuClass": "standard"
  },
  "cells": [
    {
      "cell_type": "markdown",
      "metadata": {
        "id": "view-in-github",
        "colab_type": "text"
      },
      "source": [
        "<a href=\"https://colab.research.google.com/github/Yesenia-AriasC/Curso-IA---Turing-Box-UNAL/blob/main/1_Pandas_Basic.ipynb\" target=\"_parent\"><img src=\"https://colab.research.google.com/assets/colab-badge.svg\" alt=\"Open In Colab\"/></a>"
      ]
    },
    {
      "cell_type": "markdown",
      "source": [
        "Archivo realizado por Mateo Gutiérrez - mgutierrezca@unal.edu.co"
      ],
      "metadata": {
        "id": "75wFoZeFz7wd"
      }
    },
    {
      "cell_type": "markdown",
      "source": [
        "# Pandas\n",
        "\n",
        "\n",
        "Pandas es una librería de código abierto de Python muy popular diseñada para tareas de análisis y manipulación de datos. Es, junto a NumPy y SciPy, un módulo fundamental del ecosistema de computación científica en Python y es usado en proyectos de análisis de datos"
      ],
      "metadata": {
        "id": "vK6uiYz-hiiU"
      }
    },
    {
      "cell_type": "markdown",
      "source": [
        "# **1. Conceptos Básicos**\n",
        "\n",
        "A continuación se presentan los conceptos básicos para el uso de la libreria *Pandas*. \n"
      ],
      "metadata": {
        "id": "-duW0ftxM4_v"
      }
    },
    {
      "cell_type": "code",
      "source": [
        "import pandas as pd\n",
        "import numpy as np"
      ],
      "metadata": {
        "id": "gIer5_DxiZN7"
      },
      "execution_count": null,
      "outputs": []
    },
    {
      "cell_type": "markdown",
      "source": [
        "\n",
        "## **Series** \n",
        "\n",
        "---\n",
        "\n",
        "Se entiende como una series en Pandas como aquella columna o fila que pertenece a un **DataFrame** el cuál tiene un indice indicado.\n",
        "\n",
        "Para crear un `pd.Series` existen dos maneras de crearlos usando **listas** ó **tuplas**.\n",
        "\n"
      ],
      "metadata": {
        "id": "PRp582RpOSka"
      }
    },
    {
      "cell_type": "code",
      "source": [
        "import numpy as np\n",
        "\n",
        "print(\"Series creada con una lista \\n{}\\n\".format(pd.Series([1,2,3,4])))\n",
        "print(\"Series creada con una tupla\\n{}\\n\".format(pd.Series( (1,2,3) )))\n",
        "print(\"Series creada con Arrays de Numpy\\n{}\".format(pd.Series(np.logspace(0, 4, 10), index = np.linspace(0, 90, 10, dtype = 'int'))))"
      ],
      "metadata": {
        "id": "ZS92C4UWOyg7"
      },
      "execution_count": null,
      "outputs": []
    },
    {
      "cell_type": "markdown",
      "source": [
        "Asi mismo se pueden crear una **Series** con varias Listas generadas de manera **manual** o por medio de **Numpy** como arreglos tal y cómo se muestra en el siguiente código"
      ],
      "metadata": {
        "id": "GenMgVAzPxxX"
      }
    },
    {
      "cell_type": "code",
      "source": [
        "columna1 = [f'Indice {i} ' for i in range(5)]\n",
        "columna2 = [f'Valor {i} ' for i in range(5)]\n",
        "\n",
        "# Creación de las Series ingresando las diferentes Listas\n",
        "\n",
        "print(pd.Series(columna2,index = columna1))"
      ],
      "metadata": {
        "id": "qY5PKjBAQS0i"
      },
      "execution_count": null,
      "outputs": []
    },
    {
      "cell_type": "markdown",
      "source": [
        "## **pd.DataFrames**\n",
        "---\n",
        "Se entiende un DataFrame como un arreglo de dos dimensiones que sirve para guardar información de un dataset, se puede entender fácilmente como una tabla de Excel en donde se tienen columnas que representas los atributos de las variables y filas que representan las instancias de las variables.\n",
        "\n",
        "Los **DataFrame** se pueden crear por medio de :\n",
        "\n",
        "* Arreglos de Numpy\n",
        "* Listas ó tuplas\n",
        "* Series \n",
        "* Diccionarios"
      ],
      "metadata": {
        "id": "WGBh3eleUJIk"
      }
    },
    {
      "cell_type": "markdown",
      "source": [
        "1. **Arreglos de Numpy**\n",
        "\n",
        "Es importante que los **DataFrame** tengan los atributos de **index** y **columns** puesto que el primero representa la manera en la cuál se indexan los datos en las columnas. Para crear un **DataFrame** se tiene la siguiente sintaxis `pd.DataFrame(columns,index)`\n",
        "\n"
      ],
      "metadata": {
        "id": "uR8GOeSwVsVe"
      }
    },
    {
      "cell_type": "code",
      "source": [
        "# Creación del DataFrame por medio de arreglos con Numpy\n",
        "import numpy as np\n",
        "columnas = np.arange(3,13)\n",
        "index = np.arange(1,11)\n",
        "\n",
        "df = pd.DataFrame(columnas, index = index)\n",
        "print(df)"
      ],
      "metadata": {
        "id": "ntISiiDPqH1x"
      },
      "execution_count": null,
      "outputs": []
    },
    {
      "cell_type": "markdown",
      "source": [
        "2. `Diccionarios`\n",
        "\n",
        "Para crear un **DataFrame** es necesario entender que el valor de cada clave **(key)** representa el **nombre** de la columna dada en donde cada valor de la clave corresponde al elemento de una columna."
      ],
      "metadata": {
        "id": "sISqh5jBqnxW"
      }
    },
    {
      "cell_type": "code",
      "source": [
        "# Creación de un dataframe usando un diccionario\n",
        "data = {'col1':list('abc'),'col2':[1,2,3]}\n",
        "\n",
        "pd.DataFrame(data)"
      ],
      "metadata": {
        "id": "M7bF7g6gdXak"
      },
      "execution_count": null,
      "outputs": []
    },
    {
      "cell_type": "markdown",
      "source": [
        "## Atributos\n",
        "\n",
        "Como si se tratara en **Numpy** los nuevos objetos *(Serie y Pandas)* tienen atributos que son de gran utilidad para entender la composición de estos mismos.\n",
        "\n",
        "Se tienen así para ambas estructuras los siguientes atributos : \n",
        "\n",
        "* `values`\n",
        "* `index`\n",
        "* `columns`\n",
        "* `name`\n",
        "* `size`\n",
        "* `shape`\n",
        "* `dtype`"
      ],
      "metadata": {
        "id": "0hDibqE5eN9f"
      }
    },
    {
      "cell_type": "markdown",
      "source": [
        "`values`\n",
        "\n",
        "Este atributo nos arroja los valores que se encuentran contenidos en el **DataFrame** ó en la **Series**. "
      ],
      "metadata": {
        "id": "4yY-DM_A1FV8"
      }
    },
    {
      "cell_type": "code",
      "source": [
        "# Creación de las Series y DataFrame\n",
        "import numpy as np \n",
        "s = pd.Series(np.random.randint(30,40,(1)), name = 'Series #1')\n",
        "\n",
        "df = pd.DataFrame(columns = s, index = np.random.randint(10,80,(10)))\n"
      ],
      "metadata": {
        "id": "eZT__7cV1ZD2"
      },
      "execution_count": null,
      "outputs": []
    },
    {
      "cell_type": "code",
      "source": [
        "df"
      ],
      "metadata": {
        "id": "eeyq-MND7Z7o"
      },
      "execution_count": null,
      "outputs": []
    },
    {
      "cell_type": "code",
      "source": [
        "df.values"
      ],
      "metadata": {
        "id": "JHoff6ng5tqb"
      },
      "execution_count": null,
      "outputs": []
    },
    {
      "cell_type": "markdown",
      "source": [
        "`index`\n",
        "\n",
        "Este atributo permite nos indica losindice del **DataFrame** ó las **Series**."
      ],
      "metadata": {
        "id": "o3EmScQ552qj"
      }
    },
    {
      "cell_type": "code",
      "source": [
        "df.index"
      ],
      "metadata": {
        "id": "0BspfOfL6H5q"
      },
      "execution_count": null,
      "outputs": []
    },
    {
      "cell_type": "code",
      "source": [
        "s.index"
      ],
      "metadata": {
        "id": "kW6mCZ-X6M6L"
      },
      "execution_count": null,
      "outputs": []
    },
    {
      "cell_type": "markdown",
      "source": [
        "`Columns ( Solo DataFrame )`\n",
        "\n",
        "Este atributo nos arroja el nombre y el tipo de datos que corresponde a las columnas del **DataFrame**."
      ],
      "metadata": {
        "id": "QvUBUMA96S8N"
      }
    },
    {
      "cell_type": "code",
      "source": [
        "df.columns"
      ],
      "metadata": {
        "id": "uBaeMLmY6mqP"
      },
      "execution_count": null,
      "outputs": []
    },
    {
      "cell_type": "markdown",
      "source": [
        "`name ( Solo Series )` \n",
        "\n",
        "Este atributo nos arroja el nombre que tienen las **Series**."
      ],
      "metadata": {
        "id": "i9s9Ba9660ws"
      }
    },
    {
      "cell_type": "code",
      "source": [
        "s.name"
      ],
      "metadata": {
        "id": "zoOXyupY7UUl"
      },
      "execution_count": null,
      "outputs": []
    },
    {
      "cell_type": "markdown",
      "source": [
        "## Selección y modificación\n",
        "\n",
        "En pandas se pueden acceder a los elementos de maneras distintas las cuales se pueden resumir en : \n",
        "\n",
        "* `clasica`\n",
        "* `indice .loc`\n",
        "* `indice .iloc`\n",
        "*  `selección celdas .at | .iat`\n",
        "\n"
      ],
      "metadata": {
        "id": "xtPln0llnJQR"
      }
    },
    {
      "cell_type": "markdown",
      "source": [
        "`Método clasica`\n",
        "\n",
        "Al igual que en **Python** se pueden acceder y cambiar los elementos por medio de las **llaves** []. "
      ],
      "metadata": {
        "id": "u-rZwRqvoDY3"
      }
    },
    {
      "cell_type": "code",
      "source": [
        "# Creación de un dataFrame \n",
        "import numpy as np\n",
        "import pandas as pd\n",
        "\n",
        "columnas = np.reshape(np.arange(5,30),(5,5))\n",
        "\n",
        "df = pd.DataFrame(columnas)\n",
        "\n",
        "print(\"DataFrame\\n{}\\n\",df)\n",
        "\n",
        "print(\"Accediendo a los elementos se tiene\")\n",
        "print(\"Posición (0,4) corresponde a {}\".format(df[0][4]))\n"
      ],
      "metadata": {
        "id": "x_7p-sXQonNI",
        "colab": {
          "base_uri": "https://localhost:8080/"
        },
        "outputId": "80a60b84-2ea4-4649-ff14-e65f74216521"
      },
      "execution_count": null,
      "outputs": [
        {
          "output_type": "stream",
          "name": "stdout",
          "text": [
            "DataFrame\n",
            "{}\n",
            "     0   1   2   3   4\n",
            "0   5   6   7   8   9\n",
            "1  10  11  12  13  14\n",
            "2  15  16  17  18  19\n",
            "3  20  21  22  23  24\n",
            "4  25  26  27  28  29\n",
            "Accediendo a los elementos se tiene\n",
            "Posición (0,4) corresponde a 25\n"
          ]
        }
      ]
    },
    {
      "cell_type": "markdown",
      "source": [
        "`Indice .loc`\n",
        "\n",
        "Esta manera de acceder a los elementos de un **DataFrame** permite acceder por los nombres, filas o filas y columnas.\n",
        "\n",
        "![image.png](data:image/png;base64,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)"
      ],
      "metadata": {
        "id": "VUg2UkUTnuss"
      }
    },
    {
      "cell_type": "code",
      "source": [
        "df = pd.DataFrame([[1, 2], [4, 5], [7, 8]],\n",
        "     index=['cobra', 'viper', 'sidewinder'],\n",
        "     columns=['max_speed', 'shield'])\n",
        "\n",
        "print(\"DataFrame\\n\",df)\n"
      ],
      "metadata": {
        "id": "C98bY2kRmHIc",
        "colab": {
          "base_uri": "https://localhost:8080/"
        },
        "outputId": "d3191b98-5ae3-4a79-fe1e-b3334c8c524d"
      },
      "execution_count": null,
      "outputs": [
        {
          "output_type": "stream",
          "name": "stdout",
          "text": [
            "DataFrame\n",
            "             max_speed  shield\n",
            "cobra               1       2\n",
            "viper               4       5\n",
            "sidewinder          7       8\n"
          ]
        }
      ]
    },
    {
      "cell_type": "code",
      "source": [
        "print(\"Accediendo para filas \\n\")\n",
        "\n",
        "print(df.loc['cobra'])"
      ],
      "metadata": {
        "id": "Y73XopQ_ncqH",
        "colab": {
          "base_uri": "https://localhost:8080/"
        },
        "outputId": "d191bc9a-5c7c-4fc3-83bc-bcbfd6118c20"
      },
      "execution_count": null,
      "outputs": [
        {
          "output_type": "stream",
          "name": "stdout",
          "text": [
            "Accediendo para filas \n",
            "\n",
            "max_speed    1\n",
            "shield       2\n",
            "Name: cobra, dtype: int64\n"
          ]
        }
      ]
    },
    {
      "cell_type": "code",
      "source": [
        "print(\"Accediendo para filas y columnas\")\n",
        "\n",
        "print(df.loc['cobra','max_speed'])"
      ],
      "metadata": {
        "id": "S_nlxyQHnkWr",
        "colab": {
          "base_uri": "https://localhost:8080/"
        },
        "outputId": "908ec8f2-e223-422a-b9b1-fbcae9d6ce45"
      },
      "execution_count": null,
      "outputs": [
        {
          "output_type": "stream",
          "name": "stdout",
          "text": [
            "Accediendo para filas y columnas\n",
            "1\n"
          ]
        }
      ]
    },
    {
      "cell_type": "code",
      "source": [
        "print(\"Accediendo por medio de condicionales \\n\")\n",
        "\n",
        "print(df.loc[ df['max_speed' ] > 3 ])"
      ],
      "metadata": {
        "id": "Quh4dDgLoE3j"
      },
      "execution_count": null,
      "outputs": []
    },
    {
      "cell_type": "markdown",
      "source": [
        "`Acceder por indices numéricos .iloc`\n",
        "\n",
        "El método `.iloc` nos permite acceder a los elementos de un **DataFrame** por medio de sus indices tal y como se realiza con las listas comunes de Python."
      ],
      "metadata": {
        "id": "TQOQyYnJoz8y"
      }
    },
    {
      "cell_type": "code",
      "source": [
        "df = pd.DataFrame( np.reshape(np.arange(10,28),(3,6)) , index = ['carros','motos','aviones'])\n",
        "print(df)"
      ],
      "metadata": {
        "id": "jQg0RT1GpEWq"
      },
      "execution_count": null,
      "outputs": []
    },
    {
      "cell_type": "code",
      "source": [
        "print(\"Acceder para fila\")\n",
        "print(df.iloc[0])"
      ],
      "metadata": {
        "id": "VRCMfQegpd9g"
      },
      "execution_count": null,
      "outputs": []
    },
    {
      "cell_type": "code",
      "source": [
        "print(\"Acceder para varias filas\")\n",
        "print(df.iloc[[0,2]])"
      ],
      "metadata": {
        "id": "4N7SCozTqEtc"
      },
      "execution_count": null,
      "outputs": []
    },
    {
      "cell_type": "code",
      "source": [
        "print(\"Accediendo para filas y columnas \")\n",
        "print(df.iloc[0][2])"
      ],
      "metadata": {
        "id": "KQ3z7oeAqRwG"
      },
      "execution_count": null,
      "outputs": []
    },
    {
      "cell_type": "markdown",
      "source": [
        "`Selección de celdas .at | .iat `\n",
        "\n",
        "Estos métodos son exactamente iguales que los mencionados anteriormente."
      ],
      "metadata": {
        "id": "pzZJ3WmjqrH8"
      }
    },
    {
      "cell_type": "markdown",
      "source": [
        "# **2. Importar y exportar datos**\n",
        "\n",
        "En esta sección se tratará la manera en la cuál se **exportarán** y **cargarán** los datos para el uso de la metodología `CRISP - DM `."
      ],
      "metadata": {
        "id": "5biYY-GZ6MxV"
      }
    },
    {
      "cell_type": "markdown",
      "source": [
        "## **2.1. Exportar datos**\n",
        "\n",
        "En esta parte se tratará la manera en la cuál se `exportan` los datos provenientes de un **DataFrame** o una **Series**.\n",
        "\n",
        "El formato de archivo a los cuales se van a exportar corresponden a : \n",
        "* `csv`\n",
        "* `Excel`\n",
        "* `JSON`\n",
        "* `HTML`\n",
        "* `LaTex`\n",
        "* `Markdown`\n",
        "\n",
        "\n"
      ],
      "metadata": {
        "id": "MgtWXTZM6ph_"
      }
    },
    {
      "cell_type": "code",
      "source": [
        "# Creación de DataFrame para la exportación de archivos\n",
        "df = pd.DataFrame(np.random.randint(1,90,(5,5)))\n",
        "df"
      ],
      "metadata": {
        "id": "GrQwK5jW7oJP"
      },
      "execution_count": null,
      "outputs": []
    },
    {
      "cell_type": "markdown",
      "source": [
        "`CSV`\n",
        "\n",
        "El formato **csv** corresponde a aquel que por su siglas `(Comma - Separated Values )` se da de la forma en la que los datos de las columnas se separan por **comas** o cualquier otro **caracter** y las **filas** se separan por un **salto de línea**.\n",
        "\n",
        "La sintaxis corresponde a `DataFrame.to_csv(name_file)`"
      ],
      "metadata": {
        "id": "EhC0Vkr-762S"
      }
    },
    {
      "cell_type": "code",
      "source": [
        "# Exportación a csv\n",
        "df.to_csv('archivo1.csv')"
      ],
      "metadata": {
        "id": "Yd1mz63j8uNv"
      },
      "execution_count": null,
      "outputs": []
    },
    {
      "cell_type": "code",
      "source": [
        "# Revisar el contenido del archivo anteriormente creado\n",
        "!cat archivo1.csv"
      ],
      "metadata": {
        "id": "kBehXYcM9A7j"
      },
      "execution_count": null,
      "outputs": []
    },
    {
      "cell_type": "markdown",
      "source": [
        "`JSON`\n",
        "\n",
        "Este tipo de archivo predilecto en el mundo del desarrollo nos provee varias herramientas para realizar la `exportación` de datos en diferentes formas a través del método `.to_json`. \n",
        "\n",
        "Los siguientes métodos hacen parte del valor de `orient` correspondiente a la sintaxis de `.json(file_name, orient = método ) `. \n",
        "\n",
        "* `columns` ( Genera un JSON en orden de las columnas )\n",
        "* `split` ( Retorna columnas, indice y valores\n",
        "* `index` ( Retorna las filas como objetos ) \n",
        "* `values` ( Unicamente arroja el valor de los elementos )\n",
        "* `.to_json` ( Formato único que corresponde al de columns )"
      ],
      "metadata": {
        "id": "2dT9noCo-GbT"
      }
    },
    {
      "cell_type": "code",
      "source": [
        "# Uso de columns\n",
        "import json \n",
        "\n",
        "def impresion(name): \n",
        "  print( json.dumps(json.loads(name), indent = 3) )\n",
        "\n",
        "example = df.to_json(orient = 'columns')\n",
        "impresion(example)"
      ],
      "metadata": {
        "collapsed": true,
        "id": "Lz3h_9XW_nvb"
      },
      "execution_count": null,
      "outputs": []
    },
    {
      "cell_type": "code",
      "source": [
        "# Uso de index \n",
        "\n",
        "example2 = df.to_json(orient = 'index')\n",
        "impresion(example2)"
      ],
      "metadata": {
        "collapsed": true,
        "id": "4HsRzHd_AI_a"
      },
      "execution_count": null,
      "outputs": []
    },
    {
      "cell_type": "code",
      "source": [
        "# Uso de values\n",
        "\n",
        "example3 = df.to_json(orient = 'values')\n",
        "impresion(example3)"
      ],
      "metadata": {
        "collapsed": true,
        "id": "YnQo4kJdAl8u"
      },
      "execution_count": null,
      "outputs": []
    },
    {
      "cell_type": "code",
      "source": [
        "# Uso de json común \n",
        "\n",
        "df.to_json('ejemplo3.json')"
      ],
      "metadata": {
        "id": "2RBKNbYRAwgE"
      },
      "execution_count": null,
      "outputs": []
    },
    {
      "cell_type": "markdown",
      "source": [],
      "metadata": {
        "id": "1Fu5suQQBKb3"
      }
    },
    {
      "cell_type": "markdown",
      "metadata": {
        "id": "PqqOM7R6tgAQ"
      },
      "source": [
        "`HTML`\n",
        "\n",
        "*Pandas* también permite generar tablas **HTML** (*Hyper Text Markup Language*), el formato usado en páginas web, perfecto para presentar los resultados de un análisis o exponer un conjunto de datos. \n",
        "Este formato tiene muchas opciones de personalización definidas en sus argumentos, que corresponden principalmente al estilo generado, además de los argumentos de detalles de formato comunes.\n",
        "\n",
        "Lo invitamos a consultar la [especificación](https://pandas.pydata.org/pandas-docs/stable/reference/api/pandas.DataFrame.to_html.html) de la función en la documentación oficial para más detalles sobre cómo usar estos argumentos."
      ]
    },
    {
      "cell_type": "markdown",
      "metadata": {
        "id": "EzVM3DAbEFxM"
      },
      "source": [
        "`HTML`\n",
        "\n",
        "*Pandas* también permite generar tablas **HTML** (*Hyper Text Markup Language*), el formato usado en páginas web, perfecto para presentar los resultados de un análisis o exponer un conjunto de datos. \n",
        "Este formato tiene muchas opciones de personalización definidas en sus argumentos, que corresponden principalmente al estilo generado, además de los argumentos de detalles de formato comunes.\n",
        "\n",
        "Lo invitamos a consultar la [especificación](https://pandas.pydata.org/pandas-docs/stable/reference/api/pandas.DataFrame.to_html.html) de la función en la documentación oficial para más detalles sobre cómo usar estos argumentos."
      ]
    },
    {
      "cell_type": "code",
      "execution_count": null,
      "metadata": {
        "id": "CFAEv8wYEFxN"
      },
      "outputs": [],
      "source": [
        "import IPython\n",
        "\n",
        "#Función para renderizar HTML en el notebook.\n",
        "\n",
        "def print_HTML(str):\n",
        "  display(IPython.display.HTML(df.to_html()))\n"
      ]
    },
    {
      "cell_type": "code",
      "execution_count": null,
      "metadata": {
        "id": "I_AQ1c6bEFxP"
      },
      "outputs": [],
      "source": [
        "s = df.to_html('df_to_html.html')\n",
        "\n",
        "print_HTML(s)"
      ]
    },
    {
      "cell_type": "markdown",
      "metadata": {
        "id": "dbDpREhUEFxQ"
      },
      "source": [
        "`LaTeX`\n",
        "\n",
        "En algunas ocasiones, se puede requerir de formatos más específicos que no sean usados posteriormente en otras aplicaciones. Es el caso de *LaTeX*, estándar para la generación de documentos científicos, con notación especial para ecuaciones y personalización de formatos. *Pandas* también permite generar tablas en este formato, listas para añadirse al código fuente del documento para su renderizado.\n",
        "Este método tiene también múltiples opciones de personalización específicas del formato por medio de argumentos.\n",
        "\n",
        "Lo invitamos a consultar la [especificación](https://pandas.pydata.org/pandas-docs/stable/reference/api/pandas.DataFrame.to_latex.html) de la función en la documentación oficial para más detalles sobre cómo usar estos argumentos."
      ]
    },
    {
      "cell_type": "code",
      "execution_count": null,
      "metadata": {
        "id": "LNL5NL4OEFxR"
      },
      "outputs": [],
      "source": [
        "df.to_latex('df_to_latex.tex')"
      ]
    },
    {
      "cell_type": "code",
      "execution_count": null,
      "metadata": {
        "id": "oQRY1vSQEFxT"
      },
      "outputs": [],
      "source": [
        "!cat df_to_latex.tex"
      ]
    },
    {
      "cell_type": "markdown",
      "metadata": {
        "id": "DLWU1WznEFxU"
      },
      "source": [
        "`Markdown`\n",
        "\n",
        "Al hablar de formatos de presentación, no podía faltar *Markdown*, formato usado, entre otras cosas, en el renderizado de las celdas de texto de los *Notebook*. *Pandas* permite generar texto que representa el formato de tablas usado en este lenguaje. Es ideal para generar tablas para sus proyectos con *Notebooks* de *Python*, o para plataformas como *GitHub*.\n",
        "La mayoría de sus argumentos corresponde a la especificación de la librería [*tabulate*](https://pypi.org/project/tabulate/), sobre la cual *pandas* define la personalización de las tablas de *Markdown* generadas.\n",
        "\n",
        "Lo invitamos a consultar la [especificación](https://pandas.pydata.org/pandas-docs/stable/reference/api/pandas.DataFrame.to_markdown.html) de la función en la documentación oficial para más detalles sobre cómo usar estos argumentos."
      ]
    },
    {
      "cell_type": "code",
      "execution_count": null,
      "metadata": {
        "id": "N4R2ClJoEFxW"
      },
      "outputs": [],
      "source": [
        "s = df.to_markdown()\n",
        "\n",
        "s"
      ]
    },
    {
      "cell_type": "code",
      "execution_count": null,
      "metadata": {
        "id": "Fv2W66PWEFxY"
      },
      "outputs": [],
      "source": [
        "from IPython.display import display_markdown, Markdown\n",
        "\n",
        "#Módulo de IPython para imprimir código fuente de markdown.\n",
        "display_markdown(Markdown(s))"
      ]
    },
    {
      "cell_type": "markdown",
      "metadata": {
        "id": "tMX0WZ0jEFxZ"
      },
      "source": [
        "*Pandas* ha dado soporte a una gran variedad de formatos, pero esta guía sería muy extensa si se presentaran en detalle. A continuación, presentamos una lista de los formatos soportados por *pandas* para la generación de tablas a partir de *DataFrames* y *Series*, o de utilidades específicas que le podrían interesar.\n",
        "\n",
        "*  [*Python* Pickle](https://docs.python.org/3/library/pickle.html): [**`.to_pickle`**](https://pandas.pydata.org/pandas-docs/stable/reference/api/pandas.DataFrame.to_pickle.html)\n",
        "*  [*Apache Parquet*](https://parquet.apache.org/): [**`.to_parquet`**](https://pandas.pydata.org/pandas-docs/stable/reference/api/pandas.DataFrame.to_parquet.html)\n",
        "*  [*Hierarchical Data Format*](https://www.hdfgroup.org/solutions/hdf5/): [**`.to_hdf`**](https://pandas.pydata.org/pandas-docs/stable/reference/api/pandas.DataFrame.to_hdf.html)\n",
        "*  [*SQL (Structured Query Language)*](https://docs.sqlalchemy.org/en/13/): [**`.to_sql`**](https://pandas.pydata.org/pandas-docs/stable/reference/api/pandas.DataFrame.to_sql.html)\n",
        "*  [*Feather File Format*](https://arrow.apache.org/docs/python/feather.html): [**`.to_feather`**](https://pandas.pydata.org/pandas-docs/stable/reference/api/pandas.DataFrame.to_feather.html)\n",
        "*  [*Stata dta*](https://www.stata.com/): [**`.to_stata`**](https://pandas.pydata.org/pandas-docs/stable/reference/api/pandas.DataFrame.to_stata.html)\n",
        "*  [*Google Big Query*](https://cloud.google.com/bigquery): [**`.to_gbq`**](https://pandas.pydata.org/pandas-docs/stable/reference/api/pandas.DataFrame.to_gbq.html)\n",
        "*  [Diccionario de *Python*](https://docs.python.org/3/tutorial/datastructures.html#dictionaries): [**`.to_dict`**](https://pandas.pydata.org/pandas-docs/stable/reference/api/pandas.DataFrame.to_dict.html)\n",
        "*  [*NumPy* record](https://numpy.org/devdocs/reference/generated/numpy.recarray.html#numpy.recarray): [**`.to_records`**](https://pandas.pydata.org/pandas-docs/stable/reference/api/pandas.DataFrame.to_records.html)\n",
        "*  Cadena de texto de *Python*: [**`.to_string`**](https://pandas.pydata.org/pandas-docs/stable/reference/api/pandas.DataFrame.to_string.html)\n",
        "*  Copiar al portapapeles: [**`.to_clipboard`**](https://pandas.pydata.org/pandas-docs/stable/reference/api/pandas.DataFrame.to_clipboard.html)\n",
        "\n"
      ]
    },
    {
      "cell_type": "code",
      "execution_count": null,
      "metadata": {
        "id": "9JxS1QCsv1kM"
      },
      "outputs": [],
      "source": [
        "import IPython\n",
        "\n",
        "#Función para renderizar HTML en el notebook.\n",
        "\n",
        "def print_HTML(str):\n",
        "  display(IPython.display.HTML(df.to_html()))\n"
      ]
    },
    {
      "cell_type": "code",
      "execution_count": null,
      "metadata": {
        "id": "p9Wcmam9vsRb"
      },
      "outputs": [],
      "source": [
        "s = df.to_html('df_to_html.html')\n",
        "\n",
        "print_HTML(s)"
      ]
    },
    {
      "cell_type": "markdown",
      "metadata": {
        "id": "1lBw6iiZw3zk"
      },
      "source": [
        "`LaTeX`\n",
        "\n",
        "En algunas ocasiones, se puede requerir de formatos más específicos que no sean usados posteriormente en otras aplicaciones. Es el caso de *LaTeX*, estándar para la generación de documentos científicos, con notación especial para ecuaciones y personalización de formatos. *Pandas* también permite generar tablas en este formato, listas para añadirse al código fuente del documento para su renderizado.\n",
        "Este método tiene también múltiples opciones de personalización específicas del formato por medio de argumentos.\n",
        "\n",
        "Lo invitamos a consultar la [especificación](https://pandas.pydata.org/pandas-docs/stable/reference/api/pandas.DataFrame.to_latex.html) de la función en la documentación oficial para más detalles sobre cómo usar estos argumentos."
      ]
    },
    {
      "cell_type": "code",
      "execution_count": null,
      "metadata": {
        "id": "XchRPwhzwfcU"
      },
      "outputs": [],
      "source": [
        "df.to_latex('df_to_latex.tex')"
      ]
    },
    {
      "cell_type": "code",
      "execution_count": null,
      "metadata": {
        "id": "idK0c351ssCw"
      },
      "outputs": [],
      "source": [
        "!cat df_to_latex.tex"
      ]
    },
    {
      "cell_type": "markdown",
      "metadata": {
        "id": "yZbAdExxzFJ0"
      },
      "source": [
        "`markdown`\n",
        "Al hablar de formatos de presentación, no podía faltar *Markdown*, formato usado, entre otras cosas, en el renderizado de las celdas de texto de los *Notebook*. *Pandas* permite generar texto que representa el formato de tablas usado en este lenguaje. Es ideal para generar tablas para sus proyectos con *Notebooks* de *Python*, o para plataformas como *GitHub*.\n",
        "La mayoría de sus argumentos corresponde a la especificación de la librería [*tabulate*](https://pypi.org/project/tabulate/), sobre la cual *pandas* define la personalización de las tablas de *Markdown* generadas.\n",
        "\n",
        "Lo invitamos a consultar la [especificación](https://pandas.pydata.org/pandas-docs/stable/reference/api/pandas.DataFrame.to_markdown.html) de la función en la documentación oficial para más detalles sobre cómo usar estos argumentos."
      ]
    },
    {
      "cell_type": "code",
      "execution_count": null,
      "metadata": {
        "id": "YBacGmg7z2Kk"
      },
      "outputs": [],
      "source": [
        "s = df.to_markdown()\n",
        "\n",
        "s"
      ]
    },
    {
      "cell_type": "code",
      "execution_count": null,
      "metadata": {
        "id": "N4zU-mqE0Z3R"
      },
      "outputs": [],
      "source": [
        "from IPython.display import display_markdown, Markdown\n",
        "\n",
        "#Módulo de IPython para imprimir código fuente de markdown.\n",
        "display_markdown(Markdown(s))"
      ]
    },
    {
      "cell_type": "markdown",
      "metadata": {
        "id": "1UGMKvW90s8A"
      },
      "source": [
        "*Pandas* ha dado soporte a una gran variedad de formatos, pero esta guía sería muy extensa si se presentaran en detalle. A continuación, presentamos una lista de los formatos soportados por *pandas* para la generación de tablas a partir de *DataFrames* y *Series*, o de utilidades específicas que le podrían interesar.\n",
        "\n",
        "*  [*Python* Pickle](https://docs.python.org/3/library/pickle.html): [**`.to_pickle`**](https://pandas.pydata.org/pandas-docs/stable/reference/api/pandas.DataFrame.to_pickle.html)\n",
        "*  [*Apache Parquet*](https://parquet.apache.org/): [**`.to_parquet`**](https://pandas.pydata.org/pandas-docs/stable/reference/api/pandas.DataFrame.to_parquet.html)\n",
        "*  [*Hierarchical Data Format*](https://www.hdfgroup.org/solutions/hdf5/): [**`.to_hdf`**](https://pandas.pydata.org/pandas-docs/stable/reference/api/pandas.DataFrame.to_hdf.html)\n",
        "*  [*SQL (Structured Query Language)*](https://docs.sqlalchemy.org/en/13/): [**`.to_sql`**](https://pandas.pydata.org/pandas-docs/stable/reference/api/pandas.DataFrame.to_sql.html)\n",
        "*  [*Feather File Format*](https://arrow.apache.org/docs/python/feather.html): [**`.to_feather`**](https://pandas.pydata.org/pandas-docs/stable/reference/api/pandas.DataFrame.to_feather.html)\n",
        "*  [*Stata dta*](https://www.stata.com/): [**`.to_stata`**](https://pandas.pydata.org/pandas-docs/stable/reference/api/pandas.DataFrame.to_stata.html)\n",
        "*  [*Google Big Query*](https://cloud.google.com/bigquery): [**`.to_gbq`**](https://pandas.pydata.org/pandas-docs/stable/reference/api/pandas.DataFrame.to_gbq.html)\n",
        "*  [Diccionario de *Python*](https://docs.python.org/3/tutorial/datastructures.html#dictionaries): [**`.to_dict`**](https://pandas.pydata.org/pandas-docs/stable/reference/api/pandas.DataFrame.to_dict.html)\n",
        "*  [*NumPy* record](https://numpy.org/devdocs/reference/generated/numpy.recarray.html#numpy.recarray): [**`.to_records`**](https://pandas.pydata.org/pandas-docs/stable/reference/api/pandas.DataFrame.to_records.html)\n",
        "*  Cadena de texto de *Python*: [**`.to_string`**](https://pandas.pydata.org/pandas-docs/stable/reference/api/pandas.DataFrame.to_string.html)\n",
        "*  Copiar al portapapeles: [**`.to_clipboard`**](https://pandas.pydata.org/pandas-docs/stable/reference/api/pandas.DataFrame.to_clipboard.html)\n",
        "\n"
      ]
    },
    {
      "cell_type": "markdown",
      "source": [
        "## **2.2. Importar Datos**\n",
        "\n",
        "En esta sección se enseñara como **importar** datos usando la libreria de **Pandas**. \n",
        "\n",
        "Algunos formatos admitidos son : \n",
        "\n",
        "* `csv`\n",
        "* `HTML`\n",
        "* `JSON`\n",
        "* `HTML`\n"
      ],
      "metadata": {
        "id": "grU6DlyVE-H6"
      }
    },
    {
      "cell_type": "markdown",
      "source": [
        "`CSV`\n",
        "\n",
        "Para importar datos de **csv** podemos hacerlo desde un **url** ó **nombre archivo**."
      ],
      "metadata": {
        "id": "KMb4bFpTGkK2"
      }
    },
    {
      "cell_type": "code",
      "source": [
        "# La ruta también puede ser remota, como la de una URL.\n",
        "url = 'https://drive.google.com/uc?export=download&id=1sO-OfJ-GT5emHXr6fRXCWFlzsHqL-YdQ'\n",
        "  df = pd.read_csv(url)\n",
        "df"
      ],
      "metadata": {
        "collapsed": true,
        "id": "xesNkdqLG9FX"
      },
      "execution_count": null,
      "outputs": []
    },
    {
      "cell_type": "code",
      "source": [
        "# Carga de archivo ubicado en el sistema de archivos de Google Colab.\n",
        "# En este caso se trata del dataset de prueba de alojamientos en el estado de California.\n",
        "\n",
        "df = pd.read_csv('sample_data/california_housing_test.csv')\n",
        "\n",
        "df"
      ],
      "metadata": {
        "collapsed": true,
        "id": "P3bhbF6aHCRI"
      },
      "execution_count": null,
      "outputs": []
    },
    {
      "cell_type": "markdown",
      "source": [
        "# **3. Combinación de datos**\n",
        "\n",
        "En esta parte se mostrará como **combinar** y **agrupar** datos desde un `DataFrame`. \n",
        "\n",
        "Los métodos enunciados son : \n",
        "\n",
        "* `.concat\u0005` ( Concatenar ) \n",
        "* `.append` ( Agregar Filas al final )\n",
        "* `assign` ( Asignar elementos a nuevas columnas )\n",
        "* \u0006`merge` ( Mezclar elementos entre dos DataFrame ) \n",
        "* `join` ( Funciona igual pero se recomienda usar más ) \n"
      ],
      "metadata": {
        "id": "5d87uMppHSPg"
      }
    },
    {
      "cell_type": "markdown",
      "source": [
        "`Combinación | .concat()`\n",
        "\n",
        "La combinación se realiza entre **Series** para incluirlos en unos **DataFrame** especificos. Estos métodos nos sirven para agregar Columnas o filas a unos **DataFrame** seleccionados.\n",
        "\n",
        "La sintaxis corresponde a `pd.concat( [DataFrame1,DataFrame2], axis = indice_concatenacion)`"
      ],
      "metadata": {
        "id": "kIW6CEuoH1yK"
      }
    },
    {
      "cell_type": "code",
      "source": [
        "# Creación de DataFrame y Series\n",
        "\n",
        "s1 = pd.Series(np.arange(3,12) )\n",
        "df1 = pd.DataFrame( np.resize( np.arange(100,109), (3,3) ) )\n",
        "df2 = pd.DataFrame(np.arange(10))"
      ],
      "metadata": {
        "id": "Vgzk7u_KIGFU"
      },
      "execution_count": null,
      "outputs": []
    },
    {
      "cell_type": "code",
      "source": [
        "df1"
      ],
      "metadata": {
        "collapsed": true,
        "id": "IRrs9MW8KV0y"
      },
      "execution_count": null,
      "outputs": []
    },
    {
      "cell_type": "code",
      "source": [
        "df2"
      ],
      "metadata": {
        "collapsed": true,
        "id": "5Zzg44EFKXc_"
      },
      "execution_count": null,
      "outputs": []
    },
    {
      "cell_type": "code",
      "source": [
        "# Usar concat para concatenar Series 1 y Series 2\n",
        "pd.concat([df1,df2])"
      ],
      "metadata": {
        "collapsed": true,
        "id": "mpQPUewdJYSa"
      },
      "execution_count": null,
      "outputs": []
    },
    {
      "cell_type": "markdown",
      "source": [
        "`Agregar al final | .append()`\n",
        "\n",
        "Este método sirve para agregar **filas** al final de un **DataFrame**.\n",
        "\n",
        "Su sintaxis corresponde a `df.append(Serie_nueva, ignore_index = Boolean)`. El parametro **ignore_index** se da cuando una serie tiene un nombre y se desea que este nombre sea el nuevo indice del DataFrame.\n",
        "\n",
        "`IMPORTANTE: Este método no modifica al DataFrame original puesto que crea una copia temporal`."
      ],
      "metadata": {
        "id": "-TFNp2TuKdLn"
      }
    },
    {
      "cell_type": "code",
      "source": [
        "# Creación DataFrame\n",
        "\n",
        "df = pd.DataFrame(np.eye(4,4))\n",
        "df"
      ],
      "metadata": {
        "id": "2BanfoySNy99"
      },
      "execution_count": null,
      "outputs": []
    },
    {
      "cell_type": "code",
      "source": [
        "df.append(pd.Series([1,2,3,4]), ignore_index = True)"
      ],
      "metadata": {
        "id": "sj4Xvu7EN4iE"
      },
      "execution_count": null,
      "outputs": []
    },
    {
      "cell_type": "code",
      "source": [
        "df.append(pd.Series([1,2,3,4],name = 'a'), ignore_index = False)"
      ],
      "metadata": {
        "id": "Lok-BYowOgW0"
      },
      "execution_count": null,
      "outputs": []
    },
    {
      "cell_type": "markdown",
      "source": [
        "`Asignar columnas | assign`\n",
        "\n",
        "Este método nos sirve para asignar columnas a un DataFrame con algunos valores. \n",
        "\n",
        "Su sintaxis corresponde a : `df.assign( column_name = pd.Series )`. Este método al igual que el anterior no generá una modificación del **DataFrame** puesto que unicamente se encarga de realizar una copia temporal del mismo.\n",
        "\n"
      ],
      "metadata": {
        "id": "niDUhscNP5Gq"
      }
    },
    {
      "cell_type": "code",
      "source": [
        "df"
      ],
      "metadata": {
        "id": "prCN2tt6QVhj",
        "colab": {
          "base_uri": "https://localhost:8080/",
          "height": 363
        },
        "outputId": "abf532f1-41db-4b11-a75a-37145f64f530"
      },
      "execution_count": null,
      "outputs": [
        {
          "output_type": "execute_result",
          "data": {
            "text/plain": [
              "Series #1   36\n",
              "38         NaN\n",
              "36         NaN\n",
              "68         NaN\n",
              "52         NaN\n",
              "14         NaN\n",
              "51         NaN\n",
              "31         NaN\n",
              "42         NaN\n",
              "52         NaN\n",
              "73         NaN"
            ],
            "text/html": [
              "\n",
              "  <div id=\"df-7c9cd60d-a358-454d-b08e-829fabaccb56\">\n",
              "    <div class=\"colab-df-container\">\n",
              "      <div>\n",
              "<style scoped>\n",
              "    .dataframe tbody tr th:only-of-type {\n",
              "        vertical-align: middle;\n",
              "    }\n",
              "\n",
              "    .dataframe tbody tr th {\n",
              "        vertical-align: top;\n",
              "    }\n",
              "\n",
              "    .dataframe thead th {\n",
              "        text-align: right;\n",
              "    }\n",
              "</style>\n",
              "<table border=\"1\" class=\"dataframe\">\n",
              "  <thead>\n",
              "    <tr style=\"text-align: right;\">\n",
              "      <th>Series #1</th>\n",
              "      <th>36</th>\n",
              "    </tr>\n",
              "  </thead>\n",
              "  <tbody>\n",
              "    <tr>\n",
              "      <th>38</th>\n",
              "      <td>NaN</td>\n",
              "    </tr>\n",
              "    <tr>\n",
              "      <th>36</th>\n",
              "      <td>NaN</td>\n",
              "    </tr>\n",
              "    <tr>\n",
              "      <th>68</th>\n",
              "      <td>NaN</td>\n",
              "    </tr>\n",
              "    <tr>\n",
              "      <th>52</th>\n",
              "      <td>NaN</td>\n",
              "    </tr>\n",
              "    <tr>\n",
              "      <th>14</th>\n",
              "      <td>NaN</td>\n",
              "    </tr>\n",
              "    <tr>\n",
              "      <th>51</th>\n",
              "      <td>NaN</td>\n",
              "    </tr>\n",
              "    <tr>\n",
              "      <th>31</th>\n",
              "      <td>NaN</td>\n",
              "    </tr>\n",
              "    <tr>\n",
              "      <th>42</th>\n",
              "      <td>NaN</td>\n",
              "    </tr>\n",
              "    <tr>\n",
              "      <th>52</th>\n",
              "      <td>NaN</td>\n",
              "    </tr>\n",
              "    <tr>\n",
              "      <th>73</th>\n",
              "      <td>NaN</td>\n",
              "    </tr>\n",
              "  </tbody>\n",
              "</table>\n",
              "</div>\n",
              "      <button class=\"colab-df-convert\" onclick=\"convertToInteractive('df-7c9cd60d-a358-454d-b08e-829fabaccb56')\"\n",
              "              title=\"Convert this dataframe to an interactive table.\"\n",
              "              style=\"display:none;\">\n",
              "        \n",
              "  <svg xmlns=\"http://www.w3.org/2000/svg\" height=\"24px\"viewBox=\"0 0 24 24\"\n",
              "       width=\"24px\">\n",
              "    <path d=\"M0 0h24v24H0V0z\" fill=\"none\"/>\n",
              "    <path d=\"M18.56 5.44l.94 2.06.94-2.06 2.06-.94-2.06-.94-.94-2.06-.94 2.06-2.06.94zm-11 1L8.5 8.5l.94-2.06 2.06-.94-2.06-.94L8.5 2.5l-.94 2.06-2.06.94zm10 10l.94 2.06.94-2.06 2.06-.94-2.06-.94-.94-2.06-.94 2.06-2.06.94z\"/><path d=\"M17.41 7.96l-1.37-1.37c-.4-.4-.92-.59-1.43-.59-.52 0-1.04.2-1.43.59L10.3 9.45l-7.72 7.72c-.78.78-.78 2.05 0 2.83L4 21.41c.39.39.9.59 1.41.59.51 0 1.02-.2 1.41-.59l7.78-7.78 2.81-2.81c.8-.78.8-2.07 0-2.86zM5.41 20L4 18.59l7.72-7.72 1.47 1.35L5.41 20z\"/>\n",
              "  </svg>\n",
              "      </button>\n",
              "      \n",
              "  <style>\n",
              "    .colab-df-container {\n",
              "      display:flex;\n",
              "      flex-wrap:wrap;\n",
              "      gap: 12px;\n",
              "    }\n",
              "\n",
              "    .colab-df-convert {\n",
              "      background-color: #E8F0FE;\n",
              "      border: none;\n",
              "      border-radius: 50%;\n",
              "      cursor: pointer;\n",
              "      display: none;\n",
              "      fill: #1967D2;\n",
              "      height: 32px;\n",
              "      padding: 0 0 0 0;\n",
              "      width: 32px;\n",
              "    }\n",
              "\n",
              "    .colab-df-convert:hover {\n",
              "      background-color: #E2EBFA;\n",
              "      box-shadow: 0px 1px 2px rgba(60, 64, 67, 0.3), 0px 1px 3px 1px rgba(60, 64, 67, 0.15);\n",
              "      fill: #174EA6;\n",
              "    }\n",
              "\n",
              "    [theme=dark] .colab-df-convert {\n",
              "      background-color: #3B4455;\n",
              "      fill: #D2E3FC;\n",
              "    }\n",
              "\n",
              "    [theme=dark] .colab-df-convert:hover {\n",
              "      background-color: #434B5C;\n",
              "      box-shadow: 0px 1px 3px 1px rgba(0, 0, 0, 0.15);\n",
              "      filter: drop-shadow(0px 1px 2px rgba(0, 0, 0, 0.3));\n",
              "      fill: #FFFFFF;\n",
              "    }\n",
              "  </style>\n",
              "\n",
              "      <script>\n",
              "        const buttonEl =\n",
              "          document.querySelector('#df-7c9cd60d-a358-454d-b08e-829fabaccb56 button.colab-df-convert');\n",
              "        buttonEl.style.display =\n",
              "          google.colab.kernel.accessAllowed ? 'block' : 'none';\n",
              "\n",
              "        async function convertToInteractive(key) {\n",
              "          const element = document.querySelector('#df-7c9cd60d-a358-454d-b08e-829fabaccb56');\n",
              "          const dataTable =\n",
              "            await google.colab.kernel.invokeFunction('convertToInteractive',\n",
              "                                                     [key], {});\n",
              "          if (!dataTable) return;\n",
              "\n",
              "          const docLinkHtml = 'Like what you see? Visit the ' +\n",
              "            '<a target=\"_blank\" href=https://colab.research.google.com/notebooks/data_table.ipynb>data table notebook</a>'\n",
              "            + ' to learn more about interactive tables.';\n",
              "          element.innerHTML = '';\n",
              "          dataTable['output_type'] = 'display_data';\n",
              "          await google.colab.output.renderOutput(dataTable, element);\n",
              "          const docLink = document.createElement('div');\n",
              "          docLink.innerHTML = docLinkHtml;\n",
              "          element.appendChild(docLink);\n",
              "        }\n",
              "      </script>\n",
              "    </div>\n",
              "  </div>\n",
              "  "
            ]
          },
          "metadata": {},
          "execution_count": 4
        }
      ]
    },
    {
      "cell_type": "code",
      "source": [
        "# Agregar columna 'p' con valores iguales a 56\n",
        "df.assign(p = pd.Series(np.full(4,56)))"
      ],
      "metadata": {
        "id": "3uGyMg0yQZA8",
        "colab": {
          "base_uri": "https://localhost:8080/",
          "height": 363
        },
        "outputId": "168a6983-d4b0-41fc-bebb-838b1d3bb407"
      },
      "execution_count": null,
      "outputs": [
        {
          "output_type": "execute_result",
          "data": {
            "text/plain": [
              "Series #1   36   p\n",
              "38         NaN NaN\n",
              "36         NaN NaN\n",
              "68         NaN NaN\n",
              "52         NaN NaN\n",
              "14         NaN NaN\n",
              "51         NaN NaN\n",
              "31         NaN NaN\n",
              "42         NaN NaN\n",
              "52         NaN NaN\n",
              "73         NaN NaN"
            ],
            "text/html": [
              "\n",
              "  <div id=\"df-79026b5e-27c8-432f-9209-72e29446145d\">\n",
              "    <div class=\"colab-df-container\">\n",
              "      <div>\n",
              "<style scoped>\n",
              "    .dataframe tbody tr th:only-of-type {\n",
              "        vertical-align: middle;\n",
              "    }\n",
              "\n",
              "    .dataframe tbody tr th {\n",
              "        vertical-align: top;\n",
              "    }\n",
              "\n",
              "    .dataframe thead th {\n",
              "        text-align: right;\n",
              "    }\n",
              "</style>\n",
              "<table border=\"1\" class=\"dataframe\">\n",
              "  <thead>\n",
              "    <tr style=\"text-align: right;\">\n",
              "      <th>Series #1</th>\n",
              "      <th>36</th>\n",
              "      <th>p</th>\n",
              "    </tr>\n",
              "  </thead>\n",
              "  <tbody>\n",
              "    <tr>\n",
              "      <th>38</th>\n",
              "      <td>NaN</td>\n",
              "      <td>NaN</td>\n",
              "    </tr>\n",
              "    <tr>\n",
              "      <th>36</th>\n",
              "      <td>NaN</td>\n",
              "      <td>NaN</td>\n",
              "    </tr>\n",
              "    <tr>\n",
              "      <th>68</th>\n",
              "      <td>NaN</td>\n",
              "      <td>NaN</td>\n",
              "    </tr>\n",
              "    <tr>\n",
              "      <th>52</th>\n",
              "      <td>NaN</td>\n",
              "      <td>NaN</td>\n",
              "    </tr>\n",
              "    <tr>\n",
              "      <th>14</th>\n",
              "      <td>NaN</td>\n",
              "      <td>NaN</td>\n",
              "    </tr>\n",
              "    <tr>\n",
              "      <th>51</th>\n",
              "      <td>NaN</td>\n",
              "      <td>NaN</td>\n",
              "    </tr>\n",
              "    <tr>\n",
              "      <th>31</th>\n",
              "      <td>NaN</td>\n",
              "      <td>NaN</td>\n",
              "    </tr>\n",
              "    <tr>\n",
              "      <th>42</th>\n",
              "      <td>NaN</td>\n",
              "      <td>NaN</td>\n",
              "    </tr>\n",
              "    <tr>\n",
              "      <th>52</th>\n",
              "      <td>NaN</td>\n",
              "      <td>NaN</td>\n",
              "    </tr>\n",
              "    <tr>\n",
              "      <th>73</th>\n",
              "      <td>NaN</td>\n",
              "      <td>NaN</td>\n",
              "    </tr>\n",
              "  </tbody>\n",
              "</table>\n",
              "</div>\n",
              "      <button class=\"colab-df-convert\" onclick=\"convertToInteractive('df-79026b5e-27c8-432f-9209-72e29446145d')\"\n",
              "              title=\"Convert this dataframe to an interactive table.\"\n",
              "              style=\"display:none;\">\n",
              "        \n",
              "  <svg xmlns=\"http://www.w3.org/2000/svg\" height=\"24px\"viewBox=\"0 0 24 24\"\n",
              "       width=\"24px\">\n",
              "    <path d=\"M0 0h24v24H0V0z\" fill=\"none\"/>\n",
              "    <path d=\"M18.56 5.44l.94 2.06.94-2.06 2.06-.94-2.06-.94-.94-2.06-.94 2.06-2.06.94zm-11 1L8.5 8.5l.94-2.06 2.06-.94-2.06-.94L8.5 2.5l-.94 2.06-2.06.94zm10 10l.94 2.06.94-2.06 2.06-.94-2.06-.94-.94-2.06-.94 2.06-2.06.94z\"/><path d=\"M17.41 7.96l-1.37-1.37c-.4-.4-.92-.59-1.43-.59-.52 0-1.04.2-1.43.59L10.3 9.45l-7.72 7.72c-.78.78-.78 2.05 0 2.83L4 21.41c.39.39.9.59 1.41.59.51 0 1.02-.2 1.41-.59l7.78-7.78 2.81-2.81c.8-.78.8-2.07 0-2.86zM5.41 20L4 18.59l7.72-7.72 1.47 1.35L5.41 20z\"/>\n",
              "  </svg>\n",
              "      </button>\n",
              "      \n",
              "  <style>\n",
              "    .colab-df-container {\n",
              "      display:flex;\n",
              "      flex-wrap:wrap;\n",
              "      gap: 12px;\n",
              "    }\n",
              "\n",
              "    .colab-df-convert {\n",
              "      background-color: #E8F0FE;\n",
              "      border: none;\n",
              "      border-radius: 50%;\n",
              "      cursor: pointer;\n",
              "      display: none;\n",
              "      fill: #1967D2;\n",
              "      height: 32px;\n",
              "      padding: 0 0 0 0;\n",
              "      width: 32px;\n",
              "    }\n",
              "\n",
              "    .colab-df-convert:hover {\n",
              "      background-color: #E2EBFA;\n",
              "      box-shadow: 0px 1px 2px rgba(60, 64, 67, 0.3), 0px 1px 3px 1px rgba(60, 64, 67, 0.15);\n",
              "      fill: #174EA6;\n",
              "    }\n",
              "\n",
              "    [theme=dark] .colab-df-convert {\n",
              "      background-color: #3B4455;\n",
              "      fill: #D2E3FC;\n",
              "    }\n",
              "\n",
              "    [theme=dark] .colab-df-convert:hover {\n",
              "      background-color: #434B5C;\n",
              "      box-shadow: 0px 1px 3px 1px rgba(0, 0, 0, 0.15);\n",
              "      filter: drop-shadow(0px 1px 2px rgba(0, 0, 0, 0.3));\n",
              "      fill: #FFFFFF;\n",
              "    }\n",
              "  </style>\n",
              "\n",
              "      <script>\n",
              "        const buttonEl =\n",
              "          document.querySelector('#df-79026b5e-27c8-432f-9209-72e29446145d button.colab-df-convert');\n",
              "        buttonEl.style.display =\n",
              "          google.colab.kernel.accessAllowed ? 'block' : 'none';\n",
              "\n",
              "        async function convertToInteractive(key) {\n",
              "          const element = document.querySelector('#df-79026b5e-27c8-432f-9209-72e29446145d');\n",
              "          const dataTable =\n",
              "            await google.colab.kernel.invokeFunction('convertToInteractive',\n",
              "                                                     [key], {});\n",
              "          if (!dataTable) return;\n",
              "\n",
              "          const docLinkHtml = 'Like what you see? Visit the ' +\n",
              "            '<a target=\"_blank\" href=https://colab.research.google.com/notebooks/data_table.ipynb>data table notebook</a>'\n",
              "            + ' to learn more about interactive tables.';\n",
              "          element.innerHTML = '';\n",
              "          dataTable['output_type'] = 'display_data';\n",
              "          await google.colab.output.renderOutput(dataTable, element);\n",
              "          const docLink = document.createElement('div');\n",
              "          docLink.innerHTML = docLinkHtml;\n",
              "          element.appendChild(docLink);\n",
              "        }\n",
              "      </script>\n",
              "    </div>\n",
              "  </div>\n",
              "  "
            ]
          },
          "metadata": {},
          "execution_count": 5
        }
      ]
    },
    {
      "cell_type": "markdown",
      "source": [
        "`Merge | .merge()`\n",
        "\n",
        "Este método es usado para realizar un **merge** o lo que se podría entender como combinar el valor de los datos entre dos **DataFrame**.\n",
        "\n",
        "Existen demasiadas maneras de realizar esto por lo que se da la existencia del parametro `how` que representa la manera en la cuál se dan estos casos. \n",
        "\n",
        "* `outer`: Se conservan todos los elementos.\n",
        "\n",
        "* \u0006`inner`: Se conservan solo los elementos que estén en ambos DataFrame.\n",
        "\n",
        "* `left`: Se conservan todos los elementos del DataFrame izquierdo.\n",
        "\n",
        "* `right`: Se conservan todos los elementos del DataFrame derecho.\n",
        "\n",
        "`on | left_on | right_on\u0006`: Nombre de la columna a combinar. Se puede definir nombres distintos por cada DataFrame.\n",
        "\n",
        "`left_index | right_index`: Utilizar el índice en vez de una columna.\n",
        "\n",
        "`suffixes | indicator`: Generar columnas con información general de la combinación, como el origen de la columna o el método usado.\n",
        "\n",
        "\n",
        "La sintaxis principal corresponde a : `DataFrame.merge( DataFrame2, on = columna_a_combinar, how  = caso_de_combinación) \n",
        "![imagen.png](data:image/png;base64,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)"
      ],
      "metadata": {
        "id": "VGBXLptyRfx4"
      }
    },
    {
      "cell_type": "code",
      "source": [
        "# Creación de DataFrames\n",
        "df1 = pd.DataFrame(np.eye(3,3),columns = list('abc') )\n",
        "#df1.columns = list('abc')\n",
        "df2 = pd.DataFrame(np.resize(np.arange(1,10),(3,3)), columns = list('abu'))\n",
        "\n",
        "\n",
        "print(\"Primer Data Frame\\n\",df1,\"\\n\")\n",
        "print(\"Segundo Data Frame\\n\",df2)"
      ],
      "metadata": {
        "id": "elGwy12USaib"
      },
      "execution_count": null,
      "outputs": []
    },
    {
      "cell_type": "code",
      "source": [
        "df1.merge(df2, on = 'b',how = 'right')"
      ],
      "metadata": {
        "id": "ptXzuq7DcsiH"
      },
      "execution_count": null,
      "outputs": []
    },
    {
      "cell_type": "markdown",
      "source": [
        "`join`\n",
        "\n",
        "Este método arroja los mismos resultados que el método `merge` salvo que realizarlo con este puede ser cansón. Es por ello, que se recomienda usar siempre `.join()` pues es más similar a las consultas que se pueden generar con **SQL**."
      ],
      "metadata": {
        "id": "iZjx1XGQgUDb"
      }
    },
    {
      "cell_type": "code",
      "source": [
        "# Creación de DataFrames\n",
        "df1"
      ],
      "metadata": {
        "id": "xGqTDVz0grAJ"
      },
      "execution_count": null,
      "outputs": []
    },
    {
      "cell_type": "code",
      "source": [
        "df2"
      ],
      "metadata": {
        "id": "Z94AdRBlgtv5"
      },
      "execution_count": null,
      "outputs": []
    },
    {
      "cell_type": "code",
      "source": [
        "df1.join(df2,lsuffix = '_izq',rsuffix = '_dch')"
      ],
      "metadata": {
        "id": "phk5pI_kgvLb"
      },
      "execution_count": null,
      "outputs": []
    },
    {
      "cell_type": "code",
      "source": [
        "df1.set_index('b').join(df2.set_index('a'))"
      ],
      "metadata": {
        "id": "OzqbZEPziwMn"
      },
      "execution_count": null,
      "outputs": []
    },
    {
      "cell_type": "markdown",
      "source": [
        "# **4. Agrupación de datos**\n",
        "\n",
        "En esta sección se tratarán los métodos para agrupar datos los cuales nos sirven para poder realizar consultas, agregación, eliminación o entendimiento de los datos. \n",
        "\n",
        "Los métodos enunciados se pueden dividir en las siguientes tres grandes etapas : \n",
        "\n",
        "* Separar : Significa separar los datos en grupos, es decir, se separar individualmente para generar un conjunto de un todo.\n",
        "\n",
        "* Aplicar : Aplicar funciones a grupos de datos\n",
        "\n",
        "* Combinar : Generar una nueva **columna** o **DataFrame** con la combinación nueva que se obtiene. \n",
        "\n",
        "\n",
        "Los métodos enunciados corresponden a : \n",
        "\n",
        "* `groupby() | Agrupar datos`\n",
        "* `get_group() | Obtener grupo de datos `\n",
        "* `apply() | Aplicar funciones a un grupo de datos`\n",
        "* `aggregate() | Realizar cálculos a grupo de datos`\n"
      ],
      "metadata": {
        "id": "tMpiEK9wmmuR"
      }
    },
    {
      "cell_type": "markdown",
      "source": [
        "`groupby()`\n",
        "\n",
        "Este método nos permite agrupar conjuntos de datos respecto a los criterios de un argumento. "
      ],
      "metadata": {
        "id": "PGW1HAn4LmM6"
      }
    },
    {
      "cell_type": "code",
      "source": [
        "# Implementación de un nuevo DataFrame\n",
        "df = pd.read_json('/content/sample_data/anscombe.json')\n",
        "df.head()"
      ],
      "metadata": {
        "id": "JW49cGgyL6lT"
      },
      "execution_count": null,
      "outputs": []
    },
    {
      "cell_type": "code",
      "source": [
        "# Agrupación por total de cuartos\n",
        "\n",
        "pd.DataFrame(df.groupby('Series'))"
      ],
      "metadata": {
        "colab": {
          "base_uri": "https://localhost:8080/",
          "height": 175
        },
        "id": "YG7C8IE_MXQz",
        "outputId": "55eb3a4b-c42c-4147-fed2-7555d80f19d6"
      },
      "execution_count": null,
      "outputs": [
        {
          "output_type": "execute_result",
          "data": {
            "text/plain": [
              "     0                                                  1\n",
              "0    I     Series   X      Y\n",
              "0       I  10   8.04\n",
              "1   ...\n",
              "1   II     Series   X     Y\n",
              "11     II  10  9.14\n",
              "12    ...\n",
              "2  III     Series   X      Y\n",
              "22    III  10   7.46\n",
              "23  ...\n",
              "3   IV     Series   X      Y\n",
              "33     IV   8   6.58\n",
              "34  ..."
            ],
            "text/html": [
              "\n",
              "  <div id=\"df-15569a1c-8941-4cd8-aa19-d62b382ff865\">\n",
              "    <div class=\"colab-df-container\">\n",
              "      <div>\n",
              "<style scoped>\n",
              "    .dataframe tbody tr th:only-of-type {\n",
              "        vertical-align: middle;\n",
              "    }\n",
              "\n",
              "    .dataframe tbody tr th {\n",
              "        vertical-align: top;\n",
              "    }\n",
              "\n",
              "    .dataframe thead th {\n",
              "        text-align: right;\n",
              "    }\n",
              "</style>\n",
              "<table border=\"1\" class=\"dataframe\">\n",
              "  <thead>\n",
              "    <tr style=\"text-align: right;\">\n",
              "      <th></th>\n",
              "      <th>0</th>\n",
              "      <th>1</th>\n",
              "    </tr>\n",
              "  </thead>\n",
              "  <tbody>\n",
              "    <tr>\n",
              "      <th>0</th>\n",
              "      <td>I</td>\n",
              "      <td>Series   X      Y\n",
              "0       I  10   8.04\n",
              "1   ...</td>\n",
              "    </tr>\n",
              "    <tr>\n",
              "      <th>1</th>\n",
              "      <td>II</td>\n",
              "      <td>Series   X     Y\n",
              "11     II  10  9.14\n",
              "12    ...</td>\n",
              "    </tr>\n",
              "    <tr>\n",
              "      <th>2</th>\n",
              "      <td>III</td>\n",
              "      <td>Series   X      Y\n",
              "22    III  10   7.46\n",
              "23  ...</td>\n",
              "    </tr>\n",
              "    <tr>\n",
              "      <th>3</th>\n",
              "      <td>IV</td>\n",
              "      <td>Series   X      Y\n",
              "33     IV   8   6.58\n",
              "34  ...</td>\n",
              "    </tr>\n",
              "  </tbody>\n",
              "</table>\n",
              "</div>\n",
              "      <button class=\"colab-df-convert\" onclick=\"convertToInteractive('df-15569a1c-8941-4cd8-aa19-d62b382ff865')\"\n",
              "              title=\"Convert this dataframe to an interactive table.\"\n",
              "              style=\"display:none;\">\n",
              "        \n",
              "  <svg xmlns=\"http://www.w3.org/2000/svg\" height=\"24px\"viewBox=\"0 0 24 24\"\n",
              "       width=\"24px\">\n",
              "    <path d=\"M0 0h24v24H0V0z\" fill=\"none\"/>\n",
              "    <path d=\"M18.56 5.44l.94 2.06.94-2.06 2.06-.94-2.06-.94-.94-2.06-.94 2.06-2.06.94zm-11 1L8.5 8.5l.94-2.06 2.06-.94-2.06-.94L8.5 2.5l-.94 2.06-2.06.94zm10 10l.94 2.06.94-2.06 2.06-.94-2.06-.94-.94-2.06-.94 2.06-2.06.94z\"/><path d=\"M17.41 7.96l-1.37-1.37c-.4-.4-.92-.59-1.43-.59-.52 0-1.04.2-1.43.59L10.3 9.45l-7.72 7.72c-.78.78-.78 2.05 0 2.83L4 21.41c.39.39.9.59 1.41.59.51 0 1.02-.2 1.41-.59l7.78-7.78 2.81-2.81c.8-.78.8-2.07 0-2.86zM5.41 20L4 18.59l7.72-7.72 1.47 1.35L5.41 20z\"/>\n",
              "  </svg>\n",
              "      </button>\n",
              "      \n",
              "  <style>\n",
              "    .colab-df-container {\n",
              "      display:flex;\n",
              "      flex-wrap:wrap;\n",
              "      gap: 12px;\n",
              "    }\n",
              "\n",
              "    .colab-df-convert {\n",
              "      background-color: #E8F0FE;\n",
              "      border: none;\n",
              "      border-radius: 50%;\n",
              "      cursor: pointer;\n",
              "      display: none;\n",
              "      fill: #1967D2;\n",
              "      height: 32px;\n",
              "      padding: 0 0 0 0;\n",
              "      width: 32px;\n",
              "    }\n",
              "\n",
              "    .colab-df-convert:hover {\n",
              "      background-color: #E2EBFA;\n",
              "      box-shadow: 0px 1px 2px rgba(60, 64, 67, 0.3), 0px 1px 3px 1px rgba(60, 64, 67, 0.15);\n",
              "      fill: #174EA6;\n",
              "    }\n",
              "\n",
              "    [theme=dark] .colab-df-convert {\n",
              "      background-color: #3B4455;\n",
              "      fill: #D2E3FC;\n",
              "    }\n",
              "\n",
              "    [theme=dark] .colab-df-convert:hover {\n",
              "      background-color: #434B5C;\n",
              "      box-shadow: 0px 1px 3px 1px rgba(0, 0, 0, 0.15);\n",
              "      filter: drop-shadow(0px 1px 2px rgba(0, 0, 0, 0.3));\n",
              "      fill: #FFFFFF;\n",
              "    }\n",
              "  </style>\n",
              "\n",
              "      <script>\n",
              "        const buttonEl =\n",
              "          document.querySelector('#df-15569a1c-8941-4cd8-aa19-d62b382ff865 button.colab-df-convert');\n",
              "        buttonEl.style.display =\n",
              "          google.colab.kernel.accessAllowed ? 'block' : 'none';\n",
              "\n",
              "        async function convertToInteractive(key) {\n",
              "          const element = document.querySelector('#df-15569a1c-8941-4cd8-aa19-d62b382ff865');\n",
              "          const dataTable =\n",
              "            await google.colab.kernel.invokeFunction('convertToInteractive',\n",
              "                                                     [key], {});\n",
              "          if (!dataTable) return;\n",
              "\n",
              "          const docLinkHtml = 'Like what you see? Visit the ' +\n",
              "            '<a target=\"_blank\" href=https://colab.research.google.com/notebooks/data_table.ipynb>data table notebook</a>'\n",
              "            + ' to learn more about interactive tables.';\n",
              "          element.innerHTML = '';\n",
              "          dataTable['output_type'] = 'display_data';\n",
              "          await google.colab.output.renderOutput(dataTable, element);\n",
              "          const docLink = document.createElement('div');\n",
              "          docLink.innerHTML = docLinkHtml;\n",
              "          element.appendChild(docLink);\n",
              "        }\n",
              "      </script>\n",
              "    </div>\n",
              "  </div>\n",
              "  "
            ]
          },
          "metadata": {},
          "execution_count": 29
        }
      ]
    },
    {
      "cell_type": "code",
      "source": [
        "# Imprimir agrupación por medio de for\n",
        "\n",
        "for categoria, dataFrame in df.groupby('Series'): \n",
        "  print('La categoria correspondiente es : {}\\n'.format(categoria))\n",
        "  print(dataFrame, '\\n')"
      ],
      "metadata": {
        "id": "qg-g2MEINd3m"
      },
      "execution_count": null,
      "outputs": []
    },
    {
      "cell_type": "markdown",
      "source": [
        "`get_group()`\n",
        "\n",
        "Si deseamos obtener la información del nuevo DataFrame creado a partir de `groupby` podemos usar el método de `get_group(tipo_grupo)`."
      ],
      "metadata": {
        "id": "P1wBh9AzN9Xu"
      }
    },
    {
      "cell_type": "code",
      "source": [
        "df.groupby('Series').get_group('I')"
      ],
      "metadata": {
        "id": "Cbx4-TwzOQu4"
      },
      "execution_count": null,
      "outputs": []
    },
    {
      "cell_type": "markdown",
      "source": [
        "`apply()`\n",
        "\n",
        "Este método nos sirve para poder aplicar **funciones** a un grupo de datos generado por medio de `groupby()`. Es importante destacar que el método **apply** se encuentra desarrollado para `DataFrame` ó `Series`, por lo que al usarlo junto con `groupby()` es útil ya que este nos arroja un **DataFrame** ó **Series** según sea el caso.\n"
      ],
      "metadata": {
        "id": "55p5dybxOqTN"
      }
    },
    {
      "cell_type": "code",
      "source": [
        "# Aplicar la media a cada grupo generado\n",
        "\n",
        "pd.DataFrame( df.groupby('Series').apply(lambda df: df['X'].mean() ) )"
      ],
      "metadata": {
        "colab": {
          "base_uri": "https://localhost:8080/",
          "height": 206
        },
        "id": "Jc6gYQNYPABX",
        "outputId": "e5ebda8a-4c23-4ba9-9e12-84143d5cdb7a"
      },
      "execution_count": null,
      "outputs": [
        {
          "output_type": "execute_result",
          "data": {
            "text/plain": [
              "          0\n",
              "Series     \n",
              "I       9.0\n",
              "II      9.0\n",
              "III     9.0\n",
              "IV      9.0"
            ],
            "text/html": [
              "\n",
              "  <div id=\"df-34c1b884-87b6-4638-b9b9-10384f9fc3ec\">\n",
              "    <div class=\"colab-df-container\">\n",
              "      <div>\n",
              "<style scoped>\n",
              "    .dataframe tbody tr th:only-of-type {\n",
              "        vertical-align: middle;\n",
              "    }\n",
              "\n",
              "    .dataframe tbody tr th {\n",
              "        vertical-align: top;\n",
              "    }\n",
              "\n",
              "    .dataframe thead th {\n",
              "        text-align: right;\n",
              "    }\n",
              "</style>\n",
              "<table border=\"1\" class=\"dataframe\">\n",
              "  <thead>\n",
              "    <tr style=\"text-align: right;\">\n",
              "      <th></th>\n",
              "      <th>0</th>\n",
              "    </tr>\n",
              "    <tr>\n",
              "      <th>Series</th>\n",
              "      <th></th>\n",
              "    </tr>\n",
              "  </thead>\n",
              "  <tbody>\n",
              "    <tr>\n",
              "      <th>I</th>\n",
              "      <td>9.0</td>\n",
              "    </tr>\n",
              "    <tr>\n",
              "      <th>II</th>\n",
              "      <td>9.0</td>\n",
              "    </tr>\n",
              "    <tr>\n",
              "      <th>III</th>\n",
              "      <td>9.0</td>\n",
              "    </tr>\n",
              "    <tr>\n",
              "      <th>IV</th>\n",
              "      <td>9.0</td>\n",
              "    </tr>\n",
              "  </tbody>\n",
              "</table>\n",
              "</div>\n",
              "      <button class=\"colab-df-convert\" onclick=\"convertToInteractive('df-34c1b884-87b6-4638-b9b9-10384f9fc3ec')\"\n",
              "              title=\"Convert this dataframe to an interactive table.\"\n",
              "              style=\"display:none;\">\n",
              "        \n",
              "  <svg xmlns=\"http://www.w3.org/2000/svg\" height=\"24px\"viewBox=\"0 0 24 24\"\n",
              "       width=\"24px\">\n",
              "    <path d=\"M0 0h24v24H0V0z\" fill=\"none\"/>\n",
              "    <path d=\"M18.56 5.44l.94 2.06.94-2.06 2.06-.94-2.06-.94-.94-2.06-.94 2.06-2.06.94zm-11 1L8.5 8.5l.94-2.06 2.06-.94-2.06-.94L8.5 2.5l-.94 2.06-2.06.94zm10 10l.94 2.06.94-2.06 2.06-.94-2.06-.94-.94-2.06-.94 2.06-2.06.94z\"/><path d=\"M17.41 7.96l-1.37-1.37c-.4-.4-.92-.59-1.43-.59-.52 0-1.04.2-1.43.59L10.3 9.45l-7.72 7.72c-.78.78-.78 2.05 0 2.83L4 21.41c.39.39.9.59 1.41.59.51 0 1.02-.2 1.41-.59l7.78-7.78 2.81-2.81c.8-.78.8-2.07 0-2.86zM5.41 20L4 18.59l7.72-7.72 1.47 1.35L5.41 20z\"/>\n",
              "  </svg>\n",
              "      </button>\n",
              "      \n",
              "  <style>\n",
              "    .colab-df-container {\n",
              "      display:flex;\n",
              "      flex-wrap:wrap;\n",
              "      gap: 12px;\n",
              "    }\n",
              "\n",
              "    .colab-df-convert {\n",
              "      background-color: #E8F0FE;\n",
              "      border: none;\n",
              "      border-radius: 50%;\n",
              "      cursor: pointer;\n",
              "      display: none;\n",
              "      fill: #1967D2;\n",
              "      height: 32px;\n",
              "      padding: 0 0 0 0;\n",
              "      width: 32px;\n",
              "    }\n",
              "\n",
              "    .colab-df-convert:hover {\n",
              "      background-color: #E2EBFA;\n",
              "      box-shadow: 0px 1px 2px rgba(60, 64, 67, 0.3), 0px 1px 3px 1px rgba(60, 64, 67, 0.15);\n",
              "      fill: #174EA6;\n",
              "    }\n",
              "\n",
              "    [theme=dark] .colab-df-convert {\n",
              "      background-color: #3B4455;\n",
              "      fill: #D2E3FC;\n",
              "    }\n",
              "\n",
              "    [theme=dark] .colab-df-convert:hover {\n",
              "      background-color: #434B5C;\n",
              "      box-shadow: 0px 1px 3px 1px rgba(0, 0, 0, 0.15);\n",
              "      filter: drop-shadow(0px 1px 2px rgba(0, 0, 0, 0.3));\n",
              "      fill: #FFFFFF;\n",
              "    }\n",
              "  </style>\n",
              "\n",
              "      <script>\n",
              "        const buttonEl =\n",
              "          document.querySelector('#df-34c1b884-87b6-4638-b9b9-10384f9fc3ec button.colab-df-convert');\n",
              "        buttonEl.style.display =\n",
              "          google.colab.kernel.accessAllowed ? 'block' : 'none';\n",
              "\n",
              "        async function convertToInteractive(key) {\n",
              "          const element = document.querySelector('#df-34c1b884-87b6-4638-b9b9-10384f9fc3ec');\n",
              "          const dataTable =\n",
              "            await google.colab.kernel.invokeFunction('convertToInteractive',\n",
              "                                                     [key], {});\n",
              "          if (!dataTable) return;\n",
              "\n",
              "          const docLinkHtml = 'Like what you see? Visit the ' +\n",
              "            '<a target=\"_blank\" href=https://colab.research.google.com/notebooks/data_table.ipynb>data table notebook</a>'\n",
              "            + ' to learn more about interactive tables.';\n",
              "          element.innerHTML = '';\n",
              "          dataTable['output_type'] = 'display_data';\n",
              "          await google.colab.output.renderOutput(dataTable, element);\n",
              "          const docLink = document.createElement('div');\n",
              "          docLink.innerHTML = docLinkHtml;\n",
              "          element.appendChild(docLink);\n",
              "        }\n",
              "      </script>\n",
              "    </div>\n",
              "  </div>\n",
              "  "
            ]
          },
          "metadata": {},
          "execution_count": 37
        }
      ]
    },
    {
      "cell_type": "markdown",
      "source": [
        "`aggregate | agg`\n",
        "\n",
        "Este método sirve para agregar o resumir información que represente un conjunto de datos. Se puede aplicar la **media, sumatoria, max, min, etc..**."
      ],
      "metadata": {
        "id": "-_Ue1DkZRQPe"
      }
    },
    {
      "cell_type": "code",
      "source": [
        "# Creación de DataFrame para dar ejemplo \n",
        "\n",
        "df = pd.DataFrame(np.resize(np.arange(1,13),(3,3)),columns = list('ABC'))\n",
        "df"
      ],
      "metadata": {
        "colab": {
          "base_uri": "https://localhost:8080/",
          "height": 143
        },
        "id": "2e0esMU4SVGv",
        "outputId": "46806ed8-6313-46ae-c431-4155b6e0a9e3"
      },
      "execution_count": null,
      "outputs": [
        {
          "output_type": "execute_result",
          "data": {
            "text/plain": [
              "   A  B  C\n",
              "0  1  2  3\n",
              "1  4  5  6\n",
              "2  7  8  9"
            ],
            "text/html": [
              "\n",
              "  <div id=\"df-57d23254-5650-4aa2-9207-51f13a8c51ba\">\n",
              "    <div class=\"colab-df-container\">\n",
              "      <div>\n",
              "<style scoped>\n",
              "    .dataframe tbody tr th:only-of-type {\n",
              "        vertical-align: middle;\n",
              "    }\n",
              "\n",
              "    .dataframe tbody tr th {\n",
              "        vertical-align: top;\n",
              "    }\n",
              "\n",
              "    .dataframe thead th {\n",
              "        text-align: right;\n",
              "    }\n",
              "</style>\n",
              "<table border=\"1\" class=\"dataframe\">\n",
              "  <thead>\n",
              "    <tr style=\"text-align: right;\">\n",
              "      <th></th>\n",
              "      <th>A</th>\n",
              "      <th>B</th>\n",
              "      <th>C</th>\n",
              "    </tr>\n",
              "  </thead>\n",
              "  <tbody>\n",
              "    <tr>\n",
              "      <th>0</th>\n",
              "      <td>1</td>\n",
              "      <td>2</td>\n",
              "      <td>3</td>\n",
              "    </tr>\n",
              "    <tr>\n",
              "      <th>1</th>\n",
              "      <td>4</td>\n",
              "      <td>5</td>\n",
              "      <td>6</td>\n",
              "    </tr>\n",
              "    <tr>\n",
              "      <th>2</th>\n",
              "      <td>7</td>\n",
              "      <td>8</td>\n",
              "      <td>9</td>\n",
              "    </tr>\n",
              "  </tbody>\n",
              "</table>\n",
              "</div>\n",
              "      <button class=\"colab-df-convert\" onclick=\"convertToInteractive('df-57d23254-5650-4aa2-9207-51f13a8c51ba')\"\n",
              "              title=\"Convert this dataframe to an interactive table.\"\n",
              "              style=\"display:none;\">\n",
              "        \n",
              "  <svg xmlns=\"http://www.w3.org/2000/svg\" height=\"24px\"viewBox=\"0 0 24 24\"\n",
              "       width=\"24px\">\n",
              "    <path d=\"M0 0h24v24H0V0z\" fill=\"none\"/>\n",
              "    <path d=\"M18.56 5.44l.94 2.06.94-2.06 2.06-.94-2.06-.94-.94-2.06-.94 2.06-2.06.94zm-11 1L8.5 8.5l.94-2.06 2.06-.94-2.06-.94L8.5 2.5l-.94 2.06-2.06.94zm10 10l.94 2.06.94-2.06 2.06-.94-2.06-.94-.94-2.06-.94 2.06-2.06.94z\"/><path d=\"M17.41 7.96l-1.37-1.37c-.4-.4-.92-.59-1.43-.59-.52 0-1.04.2-1.43.59L10.3 9.45l-7.72 7.72c-.78.78-.78 2.05 0 2.83L4 21.41c.39.39.9.59 1.41.59.51 0 1.02-.2 1.41-.59l7.78-7.78 2.81-2.81c.8-.78.8-2.07 0-2.86zM5.41 20L4 18.59l7.72-7.72 1.47 1.35L5.41 20z\"/>\n",
              "  </svg>\n",
              "      </button>\n",
              "      \n",
              "  <style>\n",
              "    .colab-df-container {\n",
              "      display:flex;\n",
              "      flex-wrap:wrap;\n",
              "      gap: 12px;\n",
              "    }\n",
              "\n",
              "    .colab-df-convert {\n",
              "      background-color: #E8F0FE;\n",
              "      border: none;\n",
              "      border-radius: 50%;\n",
              "      cursor: pointer;\n",
              "      display: none;\n",
              "      fill: #1967D2;\n",
              "      height: 32px;\n",
              "      padding: 0 0 0 0;\n",
              "      width: 32px;\n",
              "    }\n",
              "\n",
              "    .colab-df-convert:hover {\n",
              "      background-color: #E2EBFA;\n",
              "      box-shadow: 0px 1px 2px rgba(60, 64, 67, 0.3), 0px 1px 3px 1px rgba(60, 64, 67, 0.15);\n",
              "      fill: #174EA6;\n",
              "    }\n",
              "\n",
              "    [theme=dark] .colab-df-convert {\n",
              "      background-color: #3B4455;\n",
              "      fill: #D2E3FC;\n",
              "    }\n",
              "\n",
              "    [theme=dark] .colab-df-convert:hover {\n",
              "      background-color: #434B5C;\n",
              "      box-shadow: 0px 1px 3px 1px rgba(0, 0, 0, 0.15);\n",
              "      filter: drop-shadow(0px 1px 2px rgba(0, 0, 0, 0.3));\n",
              "      fill: #FFFFFF;\n",
              "    }\n",
              "  </style>\n",
              "\n",
              "      <script>\n",
              "        const buttonEl =\n",
              "          document.querySelector('#df-57d23254-5650-4aa2-9207-51f13a8c51ba button.colab-df-convert');\n",
              "        buttonEl.style.display =\n",
              "          google.colab.kernel.accessAllowed ? 'block' : 'none';\n",
              "\n",
              "        async function convertToInteractive(key) {\n",
              "          const element = document.querySelector('#df-57d23254-5650-4aa2-9207-51f13a8c51ba');\n",
              "          const dataTable =\n",
              "            await google.colab.kernel.invokeFunction('convertToInteractive',\n",
              "                                                     [key], {});\n",
              "          if (!dataTable) return;\n",
              "\n",
              "          const docLinkHtml = 'Like what you see? Visit the ' +\n",
              "            '<a target=\"_blank\" href=https://colab.research.google.com/notebooks/data_table.ipynb>data table notebook</a>'\n",
              "            + ' to learn more about interactive tables.';\n",
              "          element.innerHTML = '';\n",
              "          dataTable['output_type'] = 'display_data';\n",
              "          await google.colab.output.renderOutput(dataTable, element);\n",
              "          const docLink = document.createElement('div');\n",
              "          docLink.innerHTML = docLinkHtml;\n",
              "          element.appendChild(docLink);\n",
              "        }\n",
              "      </script>\n",
              "    </div>\n",
              "  </div>\n",
              "  "
            ]
          },
          "metadata": {},
          "execution_count": 48
        }
      ]
    },
    {
      "cell_type": "code",
      "source": [
        "# Encontrar la media, max y min de cada columna (A,B,C)\n",
        "df.aggregate([np.mean,max,min])"
      ],
      "metadata": {
        "colab": {
          "base_uri": "https://localhost:8080/",
          "height": 143
        },
        "id": "QOd4t8f4TCYj",
        "outputId": "993b9081-b103-40c6-f2ea-93358b306728"
      },
      "execution_count": null,
      "outputs": [
        {
          "output_type": "execute_result",
          "data": {
            "text/plain": [
              "        A    B    C\n",
              "mean  4.0  5.0  6.0\n",
              "max   7.0  8.0  9.0\n",
              "min   1.0  2.0  3.0"
            ],
            "text/html": [
              "\n",
              "  <div id=\"df-3f1c9074-39c6-432b-88a2-985e81f51374\">\n",
              "    <div class=\"colab-df-container\">\n",
              "      <div>\n",
              "<style scoped>\n",
              "    .dataframe tbody tr th:only-of-type {\n",
              "        vertical-align: middle;\n",
              "    }\n",
              "\n",
              "    .dataframe tbody tr th {\n",
              "        vertical-align: top;\n",
              "    }\n",
              "\n",
              "    .dataframe thead th {\n",
              "        text-align: right;\n",
              "    }\n",
              "</style>\n",
              "<table border=\"1\" class=\"dataframe\">\n",
              "  <thead>\n",
              "    <tr style=\"text-align: right;\">\n",
              "      <th></th>\n",
              "      <th>A</th>\n",
              "      <th>B</th>\n",
              "      <th>C</th>\n",
              "    </tr>\n",
              "  </thead>\n",
              "  <tbody>\n",
              "    <tr>\n",
              "      <th>mean</th>\n",
              "      <td>4.0</td>\n",
              "      <td>5.0</td>\n",
              "      <td>6.0</td>\n",
              "    </tr>\n",
              "    <tr>\n",
              "      <th>max</th>\n",
              "      <td>7.0</td>\n",
              "      <td>8.0</td>\n",
              "      <td>9.0</td>\n",
              "    </tr>\n",
              "    <tr>\n",
              "      <th>min</th>\n",
              "      <td>1.0</td>\n",
              "      <td>2.0</td>\n",
              "      <td>3.0</td>\n",
              "    </tr>\n",
              "  </tbody>\n",
              "</table>\n",
              "</div>\n",
              "      <button class=\"colab-df-convert\" onclick=\"convertToInteractive('df-3f1c9074-39c6-432b-88a2-985e81f51374')\"\n",
              "              title=\"Convert this dataframe to an interactive table.\"\n",
              "              style=\"display:none;\">\n",
              "        \n",
              "  <svg xmlns=\"http://www.w3.org/2000/svg\" height=\"24px\"viewBox=\"0 0 24 24\"\n",
              "       width=\"24px\">\n",
              "    <path d=\"M0 0h24v24H0V0z\" fill=\"none\"/>\n",
              "    <path d=\"M18.56 5.44l.94 2.06.94-2.06 2.06-.94-2.06-.94-.94-2.06-.94 2.06-2.06.94zm-11 1L8.5 8.5l.94-2.06 2.06-.94-2.06-.94L8.5 2.5l-.94 2.06-2.06.94zm10 10l.94 2.06.94-2.06 2.06-.94-2.06-.94-.94-2.06-.94 2.06-2.06.94z\"/><path d=\"M17.41 7.96l-1.37-1.37c-.4-.4-.92-.59-1.43-.59-.52 0-1.04.2-1.43.59L10.3 9.45l-7.72 7.72c-.78.78-.78 2.05 0 2.83L4 21.41c.39.39.9.59 1.41.59.51 0 1.02-.2 1.41-.59l7.78-7.78 2.81-2.81c.8-.78.8-2.07 0-2.86zM5.41 20L4 18.59l7.72-7.72 1.47 1.35L5.41 20z\"/>\n",
              "  </svg>\n",
              "      </button>\n",
              "      \n",
              "  <style>\n",
              "    .colab-df-container {\n",
              "      display:flex;\n",
              "      flex-wrap:wrap;\n",
              "      gap: 12px;\n",
              "    }\n",
              "\n",
              "    .colab-df-convert {\n",
              "      background-color: #E8F0FE;\n",
              "      border: none;\n",
              "      border-radius: 50%;\n",
              "      cursor: pointer;\n",
              "      display: none;\n",
              "      fill: #1967D2;\n",
              "      height: 32px;\n",
              "      padding: 0 0 0 0;\n",
              "      width: 32px;\n",
              "    }\n",
              "\n",
              "    .colab-df-convert:hover {\n",
              "      background-color: #E2EBFA;\n",
              "      box-shadow: 0px 1px 2px rgba(60, 64, 67, 0.3), 0px 1px 3px 1px rgba(60, 64, 67, 0.15);\n",
              "      fill: #174EA6;\n",
              "    }\n",
              "\n",
              "    [theme=dark] .colab-df-convert {\n",
              "      background-color: #3B4455;\n",
              "      fill: #D2E3FC;\n",
              "    }\n",
              "\n",
              "    [theme=dark] .colab-df-convert:hover {\n",
              "      background-color: #434B5C;\n",
              "      box-shadow: 0px 1px 3px 1px rgba(0, 0, 0, 0.15);\n",
              "      filter: drop-shadow(0px 1px 2px rgba(0, 0, 0, 0.3));\n",
              "      fill: #FFFFFF;\n",
              "    }\n",
              "  </style>\n",
              "\n",
              "      <script>\n",
              "        const buttonEl =\n",
              "          document.querySelector('#df-3f1c9074-39c6-432b-88a2-985e81f51374 button.colab-df-convert');\n",
              "        buttonEl.style.display =\n",
              "          google.colab.kernel.accessAllowed ? 'block' : 'none';\n",
              "\n",
              "        async function convertToInteractive(key) {\n",
              "          const element = document.querySelector('#df-3f1c9074-39c6-432b-88a2-985e81f51374');\n",
              "          const dataTable =\n",
              "            await google.colab.kernel.invokeFunction('convertToInteractive',\n",
              "                                                     [key], {});\n",
              "          if (!dataTable) return;\n",
              "\n",
              "          const docLinkHtml = 'Like what you see? Visit the ' +\n",
              "            '<a target=\"_blank\" href=https://colab.research.google.com/notebooks/data_table.ipynb>data table notebook</a>'\n",
              "            + ' to learn more about interactive tables.';\n",
              "          element.innerHTML = '';\n",
              "          dataTable['output_type'] = 'display_data';\n",
              "          await google.colab.output.renderOutput(dataTable, element);\n",
              "          const docLink = document.createElement('div');\n",
              "          docLink.innerHTML = docLinkHtml;\n",
              "          element.appendChild(docLink);\n",
              "        }\n",
              "      </script>\n",
              "    </div>\n",
              "  </div>\n",
              "  "
            ]
          },
          "metadata": {},
          "execution_count": 52
        }
      ]
    },
    {
      "cell_type": "code",
      "source": [
        "# Encontrar la media, max y min para cada fila (0,1,2)\n",
        "df.aggregate([np.mean,max,min],axis = 'columns')"
      ],
      "metadata": {
        "colab": {
          "base_uri": "https://localhost:8080/",
          "height": 143
        },
        "id": "E-ddBub4TU7Q",
        "outputId": "430f0104-ab34-42f0-84d7-f12070383565"
      },
      "execution_count": null,
      "outputs": [
        {
          "output_type": "execute_result",
          "data": {
            "text/plain": [
              "   mean  max  min\n",
              "0   2.0  3.0  1.0\n",
              "1   5.0  6.0  4.0\n",
              "2   8.0  9.0  7.0"
            ],
            "text/html": [
              "\n",
              "  <div id=\"df-e5897c70-d8e6-4a95-939d-0ce14acb469d\">\n",
              "    <div class=\"colab-df-container\">\n",
              "      <div>\n",
              "<style scoped>\n",
              "    .dataframe tbody tr th:only-of-type {\n",
              "        vertical-align: middle;\n",
              "    }\n",
              "\n",
              "    .dataframe tbody tr th {\n",
              "        vertical-align: top;\n",
              "    }\n",
              "\n",
              "    .dataframe thead th {\n",
              "        text-align: right;\n",
              "    }\n",
              "</style>\n",
              "<table border=\"1\" class=\"dataframe\">\n",
              "  <thead>\n",
              "    <tr style=\"text-align: right;\">\n",
              "      <th></th>\n",
              "      <th>mean</th>\n",
              "      <th>max</th>\n",
              "      <th>min</th>\n",
              "    </tr>\n",
              "  </thead>\n",
              "  <tbody>\n",
              "    <tr>\n",
              "      <th>0</th>\n",
              "      <td>2.0</td>\n",
              "      <td>3.0</td>\n",
              "      <td>1.0</td>\n",
              "    </tr>\n",
              "    <tr>\n",
              "      <th>1</th>\n",
              "      <td>5.0</td>\n",
              "      <td>6.0</td>\n",
              "      <td>4.0</td>\n",
              "    </tr>\n",
              "    <tr>\n",
              "      <th>2</th>\n",
              "      <td>8.0</td>\n",
              "      <td>9.0</td>\n",
              "      <td>7.0</td>\n",
              "    </tr>\n",
              "  </tbody>\n",
              "</table>\n",
              "</div>\n",
              "      <button class=\"colab-df-convert\" onclick=\"convertToInteractive('df-e5897c70-d8e6-4a95-939d-0ce14acb469d')\"\n",
              "              title=\"Convert this dataframe to an interactive table.\"\n",
              "              style=\"display:none;\">\n",
              "        \n",
              "  <svg xmlns=\"http://www.w3.org/2000/svg\" height=\"24px\"viewBox=\"0 0 24 24\"\n",
              "       width=\"24px\">\n",
              "    <path d=\"M0 0h24v24H0V0z\" fill=\"none\"/>\n",
              "    <path d=\"M18.56 5.44l.94 2.06.94-2.06 2.06-.94-2.06-.94-.94-2.06-.94 2.06-2.06.94zm-11 1L8.5 8.5l.94-2.06 2.06-.94-2.06-.94L8.5 2.5l-.94 2.06-2.06.94zm10 10l.94 2.06.94-2.06 2.06-.94-2.06-.94-.94-2.06-.94 2.06-2.06.94z\"/><path d=\"M17.41 7.96l-1.37-1.37c-.4-.4-.92-.59-1.43-.59-.52 0-1.04.2-1.43.59L10.3 9.45l-7.72 7.72c-.78.78-.78 2.05 0 2.83L4 21.41c.39.39.9.59 1.41.59.51 0 1.02-.2 1.41-.59l7.78-7.78 2.81-2.81c.8-.78.8-2.07 0-2.86zM5.41 20L4 18.59l7.72-7.72 1.47 1.35L5.41 20z\"/>\n",
              "  </svg>\n",
              "      </button>\n",
              "      \n",
              "  <style>\n",
              "    .colab-df-container {\n",
              "      display:flex;\n",
              "      flex-wrap:wrap;\n",
              "      gap: 12px;\n",
              "    }\n",
              "\n",
              "    .colab-df-convert {\n",
              "      background-color: #E8F0FE;\n",
              "      border: none;\n",
              "      border-radius: 50%;\n",
              "      cursor: pointer;\n",
              "      display: none;\n",
              "      fill: #1967D2;\n",
              "      height: 32px;\n",
              "      padding: 0 0 0 0;\n",
              "      width: 32px;\n",
              "    }\n",
              "\n",
              "    .colab-df-convert:hover {\n",
              "      background-color: #E2EBFA;\n",
              "      box-shadow: 0px 1px 2px rgba(60, 64, 67, 0.3), 0px 1px 3px 1px rgba(60, 64, 67, 0.15);\n",
              "      fill: #174EA6;\n",
              "    }\n",
              "\n",
              "    [theme=dark] .colab-df-convert {\n",
              "      background-color: #3B4455;\n",
              "      fill: #D2E3FC;\n",
              "    }\n",
              "\n",
              "    [theme=dark] .colab-df-convert:hover {\n",
              "      background-color: #434B5C;\n",
              "      box-shadow: 0px 1px 3px 1px rgba(0, 0, 0, 0.15);\n",
              "      filter: drop-shadow(0px 1px 2px rgba(0, 0, 0, 0.3));\n",
              "      fill: #FFFFFF;\n",
              "    }\n",
              "  </style>\n",
              "\n",
              "      <script>\n",
              "        const buttonEl =\n",
              "          document.querySelector('#df-e5897c70-d8e6-4a95-939d-0ce14acb469d button.colab-df-convert');\n",
              "        buttonEl.style.display =\n",
              "          google.colab.kernel.accessAllowed ? 'block' : 'none';\n",
              "\n",
              "        async function convertToInteractive(key) {\n",
              "          const element = document.querySelector('#df-e5897c70-d8e6-4a95-939d-0ce14acb469d');\n",
              "          const dataTable =\n",
              "            await google.colab.kernel.invokeFunction('convertToInteractive',\n",
              "                                                     [key], {});\n",
              "          if (!dataTable) return;\n",
              "\n",
              "          const docLinkHtml = 'Like what you see? Visit the ' +\n",
              "            '<a target=\"_blank\" href=https://colab.research.google.com/notebooks/data_table.ipynb>data table notebook</a>'\n",
              "            + ' to learn more about interactive tables.';\n",
              "          element.innerHTML = '';\n",
              "          dataTable['output_type'] = 'display_data';\n",
              "          await google.colab.output.renderOutput(dataTable, element);\n",
              "          const docLink = document.createElement('div');\n",
              "          docLink.innerHTML = docLinkHtml;\n",
              "          element.appendChild(docLink);\n",
              "        }\n",
              "      </script>\n",
              "    </div>\n",
              "  </div>\n",
              "  "
            ]
          },
          "metadata": {},
          "execution_count": 53
        }
      ]
    }
  ]
}