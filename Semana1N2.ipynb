{
  "nbformat": 4,
  "nbformat_minor": 0,
  "metadata": {
    "colab": {
      "provenance": [],
      "authorship_tag": "ABX9TyNd+vnyeqRCVv68WNjwHUvq",
      "include_colab_link": true
    },
    "kernelspec": {
      "name": "python3",
      "display_name": "Python 3"
    },
    "language_info": {
      "name": "python"
    }
  },
  "cells": [
    {
      "cell_type": "markdown",
      "metadata": {
        "id": "view-in-github",
        "colab_type": "text"
      },
      "source": [
        "<a href=\"https://colab.research.google.com/github/Yesenia-AriasC/Curso-IA/blob/main/Semana1N2.ipynb\" target=\"_parent\"><img src=\"https://colab.research.google.com/assets/colab-badge.svg\" alt=\"Open In Colab\"/></a>"
      ]
    },
    {
      "cell_type": "markdown",
      "source": [
        "Importando"
      ],
      "metadata": {
        "id": "JmB8MN1ekLD3"
      }
    },
    {
      "cell_type": "code",
      "execution_count": 1,
      "metadata": {
        "id": "cfkaxH9WhNpV"
      },
      "outputs": [],
      "source": [
        "import numpy as np\n",
        "from pprint import pprint\n",
        "from typing import List, Any, Dict\n",
        "\n",
        "from dataclasses import dataclass, field\n",
        "\n",
        "import numpy as np\n",
        "import pandas as pd\n",
        "import matplotlib.pyplot as plt\n",
        "import torch"
      ]
    },
    {
      "cell_type": "markdown",
      "source": [
        "# ```@dataClass```"
      ],
      "metadata": {
        "id": "s_xJJhjFkOMr"
      }
    },
    {
      "cell_type": "markdown",
      "source": [
        "```dataclass``` es un decorador introducido en Python 3.7 que permite definir clases que sean principalmente utilizadas para almacenar datos de manera más sencilla. La idea detrás de las clases dataclass es que, en lugar de definir manualmente atributos, métodos ```__init__```, ```__repr__```, ```__eq__```, etc., se puede utilizar esta herramienta para generar estas funcionalidades de manera más eficiente."
      ],
      "metadata": {
        "id": "gD5ZhtpKksy-"
      }
    },
    {
      "cell_type": "code",
      "source": [
        "@dataclass\n",
        "class Hamburger:\n",
        "    bun_type: str\n",
        "    bun_toasted: bool\n",
        "    tomatoes: bool\n",
        "    cheese: bool\n",
        "    meat: str\n",
        "    onion: bool"
      ],
      "metadata": {
        "id": "fi3H492bk6LP"
      },
      "execution_count": 2,
      "outputs": []
    },
    {
      "cell_type": "markdown",
      "source": [
        "El código ```@dataclas``` indica que la clase ```Hamburger``` es una clase de datos. \n",
        "\n",
        "Al utilizar este decorador, se generan automáticamente los métodos ```__init__```, ```__repr__```, ```__eq__```, etc. para la clase. Esto significa que no es necesario definir estos métodos manualmente para la clase Hamburger.\n",
        "\n",
        "En este caso, la clase Hamburger define una serie de atributos para representar una hamburguesa: \n",
        "* tipo de pan (```bun_type```)\n",
        "* si el pan está tostado o no (```bun_toasted```)\n",
        "* si tiene tomates (```tomatoes```), queso (```cheese```), carne (```meat```) y cebolla (```onion)```. \n",
        "\n",
        "Al utilizar ```@dataclass```, Python generará automáticamente el método ```__init__``` que permite inicializar los atributos de la clase, un métod ```__repr__``` que permite imprimir una representación de la instancia de la clase y un método ```__eq__``` que permite comparar dos instancias de la clase.\n",
        "\n",
        "En resumen, al utilizar ```@dataclass``` se puede crear una clase de datos simple y fácilmente reutilizable, sin tener que escribir mucho código para definir los métodos necesarios para inicializar, imprimir y comparar las instancias de la clase."
      ],
      "metadata": {
        "id": "g81YLLDPlNmH"
      }
    },
    {
      "cell_type": "code",
      "source": [
        "@dataclass\n",
        "class GarlicBread:\n",
        "    toasted: bool"
      ],
      "metadata": {
        "id": "61_gEEJBmwmn"
      },
      "execution_count": 3,
      "outputs": []
    },
    {
      "cell_type": "markdown",
      "source": [
        "La clase GarlicBread tiene un solo atributo llamado ```toasted```, que indica si el pan de ajo está tostado o no. \n",
        "\n",
        "Al utilizar ```@dataclass```, Python generará automáticamente el método ```__init__``` que permite inicializar el atributo de la clase, un método ```__repr__``` que permite imprimir una representación de la instancia de la clase y un método ```__eq__``` que permite comparar dos instancias de la clase."
      ],
      "metadata": {
        "id": "yjmo_TkRmQHs"
      }
    },
    {
      "cell_type": "code",
      "source": [
        "@dataclass\n",
        "class Order:\n",
        "    order_num: int\n",
        "    items: List[Any] = field(default_factory = lambda : [GarlicBread(toasted=True)])\n",
        "    \n",
        "    def __post_init__(self):\n",
        "        print(f\"initializing order num: {self.order_num}\")\n",
        "        return "
      ],
      "metadata": {
        "id": "xdy5w9uSnhCI"
      },
      "execution_count": 4,
      "outputs": []
    },
    {
      "cell_type": "markdown",
      "source": [
        "La clase Order tiene dos atributos: \n",
        "* ```order_num```, que es un número de orden\n",
        "* ```items```, que es una lista de artículos que componen la orden. \n",
        "\n",
        "El valor predeterminado para```items``` es una lista que contiene un objeto ```GarlicBread``` con el atributo ```toasted``` establecido en ```True```.\n",
        "\n",
        "La función ```default_factory``` se utiliza para crear un objeto GarlicBread cada vez que se crea una nueva instancia de la clase Order.\n",
        "\n",
        "Además, la clase Order define un método ```__post_init__``` que se ejecuta después de que se inicializa una instancia de la clase. En este caso, el método simplemente imprime un mensaje que indica que se está inicializando una nueva orden con un número de orden específico.\n",
        "\n",
        "En resumen, al utilizar ```@dataclass``` se puede crear una clase de datos simple y fácilmente reutilizable, sin tener que escribir mucho código para definir los métodos necesarios para inicializar, imprimir y comparar las instancias de la clase. En este caso, la clase Order se utiliza para representar una orden de comida y su número de orden, y utiliza un objeto GarlicBread como valor predeterminado para el atributo items. El método ```__post_init__``` se utiliza para realizar acciones adicionales después de la inicialización de una instancia de la clase.\n",
        "\n"
      ],
      "metadata": {
        "id": "cTDXbNVxn7tJ"
      }
    },
    {
      "cell_type": "markdown",
      "source": [
        "# Generadores"
      ],
      "metadata": {
        "id": "z6TZXHcrpVM6"
      }
    },
    {
      "cell_type": "code",
      "source": [
        "def fibGenerator(n: int):\n",
        "    fib_dp: List[int] = [0, 1, 0]\n",
        "    if n < 2:\n",
        "        return fib_dp[n]\n",
        "    i = 2\n",
        "    while i <= n:\n",
        "        fib_dp[i%3] = fib_dp[(i-1)%3] + fib_dp[(i-2)%3]\n",
        "        yield fib_dp[i%3]\n",
        "        i += 1"
      ],
      "metadata": {
        "id": "58pqnqlGouqJ"
      },
      "execution_count": 5,
      "outputs": []
    },
    {
      "cell_type": "markdown",
      "source": [
        "La función ```fibGenerator``` es un generador de la secuencia de Fibonacci hasta el término n-ésimo. Toma como entrada un número entero n y devuelve un objeto generador que produce la secuencia de Fibonacci hasta el término n-ésimo.\n",
        "\n",
        "En la primera línea de la función, se crea una lista ```fib_dp``` con los tres primeros términos de la secuencia de Fibonacci: 0, 1 y un espacio reservado para el siguiente término. Esta lista se utiliza para almacenar los tres últimos términos de la secuencia, lo que permite calcular el siguiente término utilizando solo los últimos dos términos.\n",
        "\n",
        "Luego, la función verifica si n es menor que 2. Si es así, devuelve el término n-ésimo correspondiente de la secuencia (0 para n=0 y 1 para n=1).\n",
        "\n",
        "Si n es mayor o igual a 2, la función continúa con un bucle while que calcula los siguientes términos de la secuencia de Fibonacci y los produce utilizando la sentencia ```yield```. En cada iteración del bucle, se actualiza la lista ```fib_dp``` con el siguiente término de la secuencia y se produce el valor actual de la secuencia utilizando ```yield```. El bucle se detiene después de que se hayan producido n términos de la secuencia.\n",
        "\n",
        "En resumen, ```fibGenerator``` es una función que devuelve un generador para producir la secuencia de Fibonacci hasta el término n-ésimo utilizando una técnica de programación dinámica para mejorar la eficiencia del cálculo.\n",
        "\n",
        "\n"
      ],
      "metadata": {
        "id": "wLbbfmKppxnI"
      }
    },
    {
      "cell_type": "code",
      "source": [
        "for i in fibGenerator(10):\n",
        "    print(f\"- {i}\")"
      ],
      "metadata": {
        "colab": {
          "base_uri": "https://localhost:8080/"
        },
        "id": "s-UcJts3paHe",
        "outputId": "987190fb-8b33-4c1f-c7a5-60bd41f44e17"
      },
      "execution_count": 6,
      "outputs": [
        {
          "output_type": "stream",
          "name": "stdout",
          "text": [
            "- 1\n",
            "- 2\n",
            "- 3\n",
            "- 5\n",
            "- 8\n",
            "- 13\n",
            "- 21\n",
            "- 34\n",
            "- 55\n"
          ]
        }
      ]
    },
    {
      "cell_type": "markdown",
      "source": [
        "Este código imprimirá los primeros 10 números de Fibonacci generados por la función ```fibGenerator```, usando un bucle for y la sintaxis de generador ```yield```."
      ],
      "metadata": {
        "id": "rPqPzv4gqsel"
      }
    },
    {
      "cell_type": "code",
      "source": [
        "for i in enumerate(fibGenerator(10)):\n",
        "    print(i)"
      ],
      "metadata": {
        "colab": {
          "base_uri": "https://localhost:8080/"
        },
        "id": "XKJK0z1updg7",
        "outputId": "d3d2cc91-fefb-4a9c-e94a-fcc767cd1ad9"
      },
      "execution_count": 7,
      "outputs": [
        {
          "output_type": "stream",
          "name": "stdout",
          "text": [
            "(0, 1)\n",
            "(1, 2)\n",
            "(2, 3)\n",
            "(3, 5)\n",
            "(4, 8)\n",
            "(5, 13)\n",
            "(6, 21)\n",
            "(7, 34)\n",
            "(8, 55)\n"
          ]
        }
      ]
    },
    {
      "cell_type": "markdown",
      "source": [
        "lo demás"
      ],
      "metadata": {
        "id": "tJeLIhFkrB4L"
      }
    },
    {
      "cell_type": "code",
      "source": [
        "# DataFrames\n",
        "data: Dict[str, List] = {\n",
        "    \"nombre\": [\"Nicolas\", \"Mateo\", \"Sebastian\", \"Eric\", \"Andres\", \"Jorge\"],\n",
        "    \"apellido\": [\"Galindo\", \"Gutierrez\", \"DeLaFonte\", \"Jara\", \"Garcia\", \"Paez\"]\n",
        "}\n",
        "\n",
        "data_df = pd.DataFrame(data)\n",
        "\n",
        "for row in data_df.iterrows():\n",
        "    pprint(row)\n",
        "\n",
        "# LOAD DATA\n",
        "electric_motor_data = pd.read_csv(\"electric_motor_temperature.csv\")\n",
        "\n",
        "pprint(electric_motor_data.columns)\n",
        "\n",
        "print(electric_motor_data.describe())\n",
        "\n",
        "electric_motor_data = electric_motor_data[electric_motor_data[\"u_q\"] > 0]\n",
        "\n",
        "print(electric_motor_data[:10])\n",
        "\n",
        "print(electric_motor_data[\"u_q\"].value_counts(dropna=False))\n",
        "print(electric_motor_data.columns)\n",
        "\n",
        "print(electric_motor_data.groupby([\"u_q\", \"coolant\"]).sum())\n",
        "\n",
        "# PLOTTING DATA\n",
        "sub_electric_motor_data = electric_motor_data.groupby(\"coolant\")[\"torque\"].mean().reset_index()\n",
        "\n",
        "print(sub_electric_motor_data)\n",
        "\n",
        "x = sub_electric_motor_data[\"coolant\"].to_numpy()\n",
        "y = sub_electric_motor_data[\"torque\"].to_numpy()\n",
        "\n",
        "plt.plot(x, y, label=\"avg_torque_to_coolant\")\n",
        "plt.show()\n",
        "\n",
        "sin_x = np.sin(x)\n",
        "\n",
        "plt.plot(x, sin_x, label=\"sin_x\")\n",
        "plt.title(\"Electric Motors Analysis\")\n",
        "plt.legend()\n",
        "plt.show()\n",
        "\n",
        "\n",
        "# PYTORCH\n",
        "data = [[[42, 69], [86, 77]], [[99, 420], [0, 1]]]\n",
        "t_data = torch.tensor(data)\n",
        "\n",
        "data = np.array(data)\n",
        "t_data = torch.tensor(data)\n",
        "\n",
        "print(t_data.shape)\n",
        "print(t_data.dtype)\n",
        "print(t_data.device)\n",
        "\n",
        "if torch.cuda.is_available():\n",
        "    t_data = t_data.to(\"cuda:1\")\n",
        "    print(t_data.device)\n",
        "\n",
        "t_new = torch.zeros(data.shape)\n",
        "t_new[:,0] = 1\n",
        "\n",
        "t_data = t_data.double()\n",
        "\n",
        "print(t_data * t_new)\n",
        "print(t_data @ t_new.mT.double())"
      ],
      "metadata": {
        "id": "M3f4PmharDTC"
      },
      "execution_count": null,
      "outputs": []
    }
  ]
}