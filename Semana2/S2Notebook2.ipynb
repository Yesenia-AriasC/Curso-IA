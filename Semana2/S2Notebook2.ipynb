{
  "nbformat": 4,
  "nbformat_minor": 0,
  "metadata": {
    "colab": {
      "provenance": [],
      "authorship_tag": "ABX9TyOeBce0XxwXFJo2GZcLlpwK",
      "include_colab_link": true
    },
    "kernelspec": {
      "name": "python3",
      "display_name": "Python 3"
    },
    "language_info": {
      "name": "python"
    }
  },
  "cells": [
    {
      "cell_type": "markdown",
      "metadata": {
        "id": "view-in-github",
        "colab_type": "text"
      },
      "source": [
        "<a href=\"https://colab.research.google.com/github/Yesenia-AriasC/Curso-IA/blob/main/S2Notebook2.ipynb\" target=\"_parent\"><img src=\"https://colab.research.google.com/assets/colab-badge.svg\" alt=\"Open In Colab\"/></a>"
      ]
    },
    {
      "cell_type": "code",
      "execution_count": 1,
      "metadata": {
        "id": "w5hXEcQ_NK5R"
      },
      "outputs": [],
      "source": [
        "import torch\n",
        "import numpy as np\n",
        "import pandas as pd\n",
        "from torch.optim import optimizer\n",
        "from sklearn.linear_model import LinearRegression\n",
        "from sklearn.metrics import mean_squared_error\n",
        "import matplotlib.pyplot as plt"
      ]
    },
    {
      "cell_type": "markdown",
      "source": [
        "# Regresion lineal"
      ],
      "metadata": {
        "id": "ZdPsQ9J0NhVN"
      }
    },
    {
      "cell_type": "code",
      "source": [
        "xd = np.array([[1], [2], [3], [4]])\n",
        "yd = xd*2 + 3\n",
        "reg = LinearRegression()\n",
        "reg.fit(xd, yd)"
      ],
      "metadata": {
        "colab": {
          "base_uri": "https://localhost:8080/",
          "height": 74
        },
        "id": "4U99k0MWNkB2",
        "outputId": "7483e383-d167-4172-9961-a7f47873aac5"
      },
      "execution_count": 2,
      "outputs": [
        {
          "output_type": "execute_result",
          "data": {
            "text/plain": [
              "LinearRegression()"
            ],
            "text/html": [
              "<style>#sk-container-id-1 {color: black;background-color: white;}#sk-container-id-1 pre{padding: 0;}#sk-container-id-1 div.sk-toggleable {background-color: white;}#sk-container-id-1 label.sk-toggleable__label {cursor: pointer;display: block;width: 100%;margin-bottom: 0;padding: 0.3em;box-sizing: border-box;text-align: center;}#sk-container-id-1 label.sk-toggleable__label-arrow:before {content: \"▸\";float: left;margin-right: 0.25em;color: #696969;}#sk-container-id-1 label.sk-toggleable__label-arrow:hover:before {color: black;}#sk-container-id-1 div.sk-estimator:hover label.sk-toggleable__label-arrow:before {color: black;}#sk-container-id-1 div.sk-toggleable__content {max-height: 0;max-width: 0;overflow: hidden;text-align: left;background-color: #f0f8ff;}#sk-container-id-1 div.sk-toggleable__content pre {margin: 0.2em;color: black;border-radius: 0.25em;background-color: #f0f8ff;}#sk-container-id-1 input.sk-toggleable__control:checked~div.sk-toggleable__content {max-height: 200px;max-width: 100%;overflow: auto;}#sk-container-id-1 input.sk-toggleable__control:checked~label.sk-toggleable__label-arrow:before {content: \"▾\";}#sk-container-id-1 div.sk-estimator input.sk-toggleable__control:checked~label.sk-toggleable__label {background-color: #d4ebff;}#sk-container-id-1 div.sk-label input.sk-toggleable__control:checked~label.sk-toggleable__label {background-color: #d4ebff;}#sk-container-id-1 input.sk-hidden--visually {border: 0;clip: rect(1px 1px 1px 1px);clip: rect(1px, 1px, 1px, 1px);height: 1px;margin: -1px;overflow: hidden;padding: 0;position: absolute;width: 1px;}#sk-container-id-1 div.sk-estimator {font-family: monospace;background-color: #f0f8ff;border: 1px dotted black;border-radius: 0.25em;box-sizing: border-box;margin-bottom: 0.5em;}#sk-container-id-1 div.sk-estimator:hover {background-color: #d4ebff;}#sk-container-id-1 div.sk-parallel-item::after {content: \"\";width: 100%;border-bottom: 1px solid gray;flex-grow: 1;}#sk-container-id-1 div.sk-label:hover label.sk-toggleable__label {background-color: #d4ebff;}#sk-container-id-1 div.sk-serial::before {content: \"\";position: absolute;border-left: 1px solid gray;box-sizing: border-box;top: 0;bottom: 0;left: 50%;z-index: 0;}#sk-container-id-1 div.sk-serial {display: flex;flex-direction: column;align-items: center;background-color: white;padding-right: 0.2em;padding-left: 0.2em;position: relative;}#sk-container-id-1 div.sk-item {position: relative;z-index: 1;}#sk-container-id-1 div.sk-parallel {display: flex;align-items: stretch;justify-content: center;background-color: white;position: relative;}#sk-container-id-1 div.sk-item::before, #sk-container-id-1 div.sk-parallel-item::before {content: \"\";position: absolute;border-left: 1px solid gray;box-sizing: border-box;top: 0;bottom: 0;left: 50%;z-index: -1;}#sk-container-id-1 div.sk-parallel-item {display: flex;flex-direction: column;z-index: 1;position: relative;background-color: white;}#sk-container-id-1 div.sk-parallel-item:first-child::after {align-self: flex-end;width: 50%;}#sk-container-id-1 div.sk-parallel-item:last-child::after {align-self: flex-start;width: 50%;}#sk-container-id-1 div.sk-parallel-item:only-child::after {width: 0;}#sk-container-id-1 div.sk-dashed-wrapped {border: 1px dashed gray;margin: 0 0.4em 0.5em 0.4em;box-sizing: border-box;padding-bottom: 0.4em;background-color: white;}#sk-container-id-1 div.sk-label label {font-family: monospace;font-weight: bold;display: inline-block;line-height: 1.2em;}#sk-container-id-1 div.sk-label-container {text-align: center;}#sk-container-id-1 div.sk-container {/* jupyter's `normalize.less` sets `[hidden] { display: none; }` but bootstrap.min.css set `[hidden] { display: none !important; }` so we also need the `!important` here to be able to override the default hidden behavior on the sphinx rendered scikit-learn.org. See: https://github.com/scikit-learn/scikit-learn/issues/21755 */display: inline-block !important;position: relative;}#sk-container-id-1 div.sk-text-repr-fallback {display: none;}</style><div id=\"sk-container-id-1\" class=\"sk-top-container\"><div class=\"sk-text-repr-fallback\"><pre>LinearRegression()</pre><b>In a Jupyter environment, please rerun this cell to show the HTML representation or trust the notebook. <br />On GitHub, the HTML representation is unable to render, please try loading this page with nbviewer.org.</b></div><div class=\"sk-container\" hidden><div class=\"sk-item\"><div class=\"sk-estimator sk-toggleable\"><input class=\"sk-toggleable__control sk-hidden--visually\" id=\"sk-estimator-id-1\" type=\"checkbox\" checked><label for=\"sk-estimator-id-1\" class=\"sk-toggleable__label sk-toggleable__label-arrow\">LinearRegression</label><div class=\"sk-toggleable__content\"><pre>LinearRegression()</pre></div></div></div></div></div>"
            ]
          },
          "metadata": {},
          "execution_count": 2
        }
      ]
    },
    {
      "cell_type": "code",
      "source": [
        "plt.plot([i[0] for i in xd], [i[0] for i in yd], color=\"blue\", marker=\"o\", linestyle=\"None\")\n",
        "plt.show()"
      ],
      "metadata": {
        "colab": {
          "base_uri": "https://localhost:8080/",
          "height": 265
        },
        "id": "ADflsVImNtcN",
        "outputId": "818eea28-9aa4-460d-9667-39db11c48b61"
      },
      "execution_count": 3,
      "outputs": [
        {
          "output_type": "display_data",
          "data": {
            "text/plain": [
              "<Figure size 432x288 with 1 Axes>"
            ],
            "image/png": "[encoded data removed]"
          },
          "metadata": {
            "needs_background": "light"
          }
        }
      ]
    },
    {
      "cell_type": "code",
      "source": [
        "x_new = [[5], [6], [7], [8]]\n",
        "pr = reg.predict(np.array(x_new))\n",
        "pr"
      ],
      "metadata": {
        "colab": {
          "base_uri": "https://localhost:8080/"
        },
        "id": "TkH9M906NwMw",
        "outputId": "2f2357da-007f-4044-bacf-e355cbfc163b"
      },
      "execution_count": 5,
      "outputs": [
        {
          "output_type": "execute_result",
          "data": {
            "text/plain": [
              "array([[13.],\n",
              "       [15.],\n",
              "       [17.],\n",
              "       [19.]])"
            ]
          },
          "metadata": {},
          "execution_count": 5
        }
      ]
    },
    {
      "cell_type": "code",
      "source": [
        "plt.plot([i[0] for i in xd], [i[0] for i in yd], color=\"blue\", marker=\"o\", linestyle=\"None\")\n",
        "plt.plot([i[0] for i in x_new], [i[0] for i in pr], color=\"red\", marker=\"o\")\n",
        "plt.show()"
      ],
      "metadata": {
        "colab": {
          "base_uri": "https://localhost:8080/",
          "height": 265
        },
        "id": "WuZEDA6rNzFV",
        "outputId": "1134e219-284e-40ad-b324-59591d83e86f"
      },
      "execution_count": 6,
      "outputs": [
        {
          "output_type": "display_data",
          "data": {
            "text/plain": [
              "<Figure size 432x288 with 1 Axes>"
            ],
            "image/png": "[encoded data removed]"
          },
          "metadata": {
            "needs_background": "light"
          }
        }
      ]
    },
    {
      "cell_type": "code",
      "source": [
        "# Mean-squared error\n",
        "y_true = [3, -0.5, 2, 7]\n",
        "y_pred = [2.5, 0.0, 2, 8]\n",
        "print(mean_squared_error(y_true, y_pred))\n"
      ],
      "metadata": {
        "colab": {
          "base_uri": "https://localhost:8080/"
        },
        "id": "I8dac5A9ODLp",
        "outputId": "f63185b0-6e76-4782-f20d-7c26bb8df70b"
      },
      "execution_count": 7,
      "outputs": [
        {
          "output_type": "stream",
          "name": "stdout",
          "text": [
            "0.375\n"
          ]
        }
      ]
    },
    {
      "cell_type": "markdown",
      "source": [
        "# Red neuronal Básica\n"
      ],
      "metadata": {
        "id": "u5EanqHPOJP-"
      }
    },
    {
      "cell_type": "code",
      "source": [
        "# Basic Neural Network meant to recieve 32x32 images (Built for MNIST dataset)\n",
        "class Brain(torch.nn.Module): # torch.nn.Module is a base class for all neuronal networks in pytroch\n",
        "    def __init__(self):\n",
        "        super().__init__()\n",
        "\n",
        "        self.c1 = torch.nn.Conv2d(1, 6, 5) # Initial convolution layer 1 input image channel, 6 output channels, 5x5 conv kernel\n",
        "        self.c2 = torch.nn.Conv2d(6, 16, 5) # Second convolution layer 6 input channels, 16 output channels, 5x5 conv kernel\n",
        "\n",
        "        # IMPORTANT: Linear layers are calculated as follows: \n",
        "        # y = xA^T + b\n",
        "        # y is output tensor, x is input tensor, A is trnasoformation tensor of shape (out, 1) where each value represents a node, b is the added bias of shape (out, 1) where each value represents node specific bias\n",
        "\n",
        "        self.l1 = torch.nn.Linear(16*5*5, 120) # Linear layer from 400->120\n",
        "        self.l2 = torch.nn.Linear(120, 84) # Linear layer from 120->84\n",
        "        self.l3 = torch.nn.Linear(84, 10) # Linear layer from 84->10\n",
        "\n",
        "    def forward(self, x):\n",
        "        print(f\"1: {x.shape}\")\n",
        "        \n",
        "        x = self.c1(x)\n",
        "        print(f\"2: {x.shape}\") # new image has size (32-5+1)x(32-5+1) channels 6\n",
        "        \n",
        "        x = torch.nn.functional.max_pool2d(torch.nn.functional.relu(x), (2, 2))\n",
        "        print(f\"3: {x.shape}\") # max pooling reduces space by half along x and y axis so new image is (28/2)x(28/2) channels 6\n",
        "\n",
        "        x = self.c2(x)\n",
        "        print(f\"4: {x.shape}\") # new image has size (14-5+1)x(14-5+1) channels 16\n",
        "\n",
        "        x = torch.nn.functional.max_pool2d(torch.nn.functional.relu(x), (2, 2))\n",
        "        print(f\"5: {x.shape}\") # max pooling reduces space by half along x and y axis so new image is (10/2)x(10/2) channels 16\n",
        "\n",
        "        x = torch.flatten(x, 1)\n",
        "        print(f\"6: {x.shape}\") # flattening along the second dimension (remember indexing starts at 0) provides every image flattened into tensor of 16*5*5\n",
        "\n",
        "        x = torch.nn.functional.relu(self.l1(x))\n",
        "        print(f\"7: {x.shape}\") # normal linear transformation layer from 400 -> 120\n",
        "\n",
        "        x = torch.nn.functional.relu(self.l2(x))\n",
        "        print(f\"8: {x.shape}\") # normal linear transformation layer from 120 -> 84\n",
        "\n",
        "        x = self.l3(x)\n",
        "        print(f\"9: {x.shape}\") # normal linear transformation layer from 84 -> 10\n",
        "\n",
        "        return x\n"
      ],
      "metadata": {
        "id": "kSjL3dMMOSlx"
      },
      "execution_count": null,
      "outputs": []
    },
    {
      "cell_type": "code",
      "source": [
        "# Testing plz\n",
        "inp = torch.randn(1, 1, 32, 32)\n",
        "br = Brain()\n",
        "out = br(inp)\n",
        "print(out.shape)\n",
        "print(out) # The torch.nn.Module automatically runs the forward function when passing in arguments directly to class instance\n"
      ],
      "metadata": {
        "id": "kjSJfSkrOXM3"
      },
      "execution_count": null,
      "outputs": []
    },
    {
      "cell_type": "code",
      "source": [
        "# Make dummy data\n",
        "dum = torch.Tensor([-1.2417,  0.3951,  0.8888, -1.7387, -1.9310,  1.0910,  1.1910, -0.3120, 0.5673,  0.6660])\n",
        "dum = dum.view(1, -1)\n"
      ],
      "metadata": {
        "id": "y1UhaISOOXDv"
      },
      "execution_count": null,
      "outputs": []
    },
    {
      "cell_type": "code",
      "source": [
        "loss_func = torch.nn.MSELoss() # Declare a loss function with mean-squared error calc"
      ],
      "metadata": {
        "id": "SF_J6hhHObU-"
      },
      "execution_count": null,
      "outputs": []
    },
    {
      "cell_type": "code",
      "source": [
        "# Start training loop\n",
        "optim = torch.optim.SGD(br.parameters(), lr=0.01)\n",
        "\n",
        "for i in range(3):\n",
        "    optim.zero_grad() # Gradients must be zeroed so they won't be added to each other\n",
        "    out = br(inp) # Get the predicted output\n",
        "    loss = loss_func(out, dum) # get the loss between predicted and target data\n",
        "    loss.backward() # Calculate the backwards propagation gradients\n",
        "    optim.step() # Backwards propagate"
      ],
      "metadata": {
        "id": "tm69600aObMV"
      },
      "execution_count": null,
      "outputs": []
    }
  ]
}
