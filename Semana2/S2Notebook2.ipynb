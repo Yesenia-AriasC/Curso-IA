{
  "nbformat": 4,
  "nbformat_minor": 0,
  "metadata": {
    "colab": {
      "provenance": [],
      "include_colab_link": true
    },
    "kernelspec": {
      "name": "python3",
      "display_name": "Python 3"
    },
    "language_info": {
      "name": "python"
    }
  },
  "cells": [
    {
      "cell_type": "markdown",
      "metadata": {
        "id": "view-in-github",
        "colab_type": "text"
      },
      "source": [
        "<a href=\"https://colab.research.google.com/github/Yesenia-AriasC/Curso-IA/blob/main/Semana2/S2Notebook2.ipynb\" target=\"_parent\"><img src=\"https://colab.research.google.com/assets/colab-badge.svg\" alt=\"Open In Colab\"/></a>"
      ]
    },
    {
      "cell_type": "code",
      "execution_count": 5,
      "metadata": {
        "id": "w5hXEcQ_NK5R"
      },
      "outputs": [],
      "source": [
        "import torch\n",
        "import numpy as np\n",
        "import pandas as pd\n",
        "from torch.optim import optimizer\n",
        "from sklearn.linear_model import LinearRegression\n",
        "from sklearn.metrics import mean_squared_error\n",
        "import matplotlib.pyplot as plt"
      ]
    },
    {
      "cell_type": "markdown",
      "source": [
        "# Regresion lineal"
      ],
      "metadata": {
        "id": "ZdPsQ9J0NhVN"
      }
    },
    {
      "cell_type": "code",
      "source": [
        "xd = np.array([[1], [2], [3], [4]])\n",
        "yd = xd*2 + 3\n",
        "reg = LinearRegression()\n",
        "reg.fit(xd, yd)"
      ],
      "metadata": {
        "colab": {
          "base_uri": "https://localhost:8080/",
          "height": 74
        },
        "id": "4U99k0MWNkB2",
        "outputId": "7483e383-d167-4172-9961-a7f47873aac5"
      },
      "execution_count": null,
      "outputs": [
        {
          "output_type": "execute_result",
          "data": {
            "text/plain": [
              "LinearRegression()"
            ],
            "text/html": [
              "<style>#sk-container-id-1 {color: black;background-color: white;}#sk-container-id-1 pre{padding: 0;}#sk-container-id-1 div.sk-toggleable {background-color: white;}#sk-container-id-1 label.sk-toggleable__label {cursor: pointer;display: block;width: 100%;margin-bottom: 0;padding: 0.3em;box-sizing: border-box;text-align: center;}#sk-container-id-1 label.sk-toggleable__label-arrow:before {content: \"▸\";float: left;margin-right: 0.25em;color: #696969;}#sk-container-id-1 label.sk-toggleable__label-arrow:hover:before {color: black;}#sk-container-id-1 div.sk-estimator:hover label.sk-toggleable__label-arrow:before {color: black;}#sk-container-id-1 div.sk-toggleable__content {max-height: 0;max-width: 0;overflow: hidden;text-align: left;background-color: #f0f8ff;}#sk-container-id-1 div.sk-toggleable__content pre {margin: 0.2em;color: black;border-radius: 0.25em;background-color: #f0f8ff;}#sk-container-id-1 input.sk-toggleable__control:checked~div.sk-toggleable__content {max-height: 200px;max-width: 100%;overflow: auto;}#sk-container-id-1 input.sk-toggleable__control:checked~label.sk-toggleable__label-arrow:before {content: \"▾\";}#sk-container-id-1 div.sk-estimator input.sk-toggleable__control:checked~label.sk-toggleable__label {background-color: #d4ebff;}#sk-container-id-1 div.sk-label input.sk-toggleable__control:checked~label.sk-toggleable__label {background-color: #d4ebff;}#sk-container-id-1 input.sk-hidden--visually {border: 0;clip: rect(1px 1px 1px 1px);clip: rect(1px, 1px, 1px, 1px);height: 1px;margin: -1px;overflow: hidden;padding: 0;position: absolute;width: 1px;}#sk-container-id-1 div.sk-estimator {font-family: monospace;background-color: #f0f8ff;border: 1px dotted black;border-radius: 0.25em;box-sizing: border-box;margin-bottom: 0.5em;}#sk-container-id-1 div.sk-estimator:hover {background-color: #d4ebff;}#sk-container-id-1 div.sk-parallel-item::after {content: \"\";width: 100%;border-bottom: 1px solid gray;flex-grow: 1;}#sk-container-id-1 div.sk-label:hover label.sk-toggleable__label {background-color: #d4ebff;}#sk-container-id-1 div.sk-serial::before {content: \"\";position: absolute;border-left: 1px solid gray;box-sizing: border-box;top: 0;bottom: 0;left: 50%;z-index: 0;}#sk-container-id-1 div.sk-serial {display: flex;flex-direction: column;align-items: center;background-color: white;padding-right: 0.2em;padding-left: 0.2em;position: relative;}#sk-container-id-1 div.sk-item {position: relative;z-index: 1;}#sk-container-id-1 div.sk-parallel {display: flex;align-items: stretch;justify-content: center;background-color: white;position: relative;}#sk-container-id-1 div.sk-item::before, #sk-container-id-1 div.sk-parallel-item::before {content: \"\";position: absolute;border-left: 1px solid gray;box-sizing: border-box;top: 0;bottom: 0;left: 50%;z-index: -1;}#sk-container-id-1 div.sk-parallel-item {display: flex;flex-direction: column;z-index: 1;position: relative;background-color: white;}#sk-container-id-1 div.sk-parallel-item:first-child::after {align-self: flex-end;width: 50%;}#sk-container-id-1 div.sk-parallel-item:last-child::after {align-self: flex-start;width: 50%;}#sk-container-id-1 div.sk-parallel-item:only-child::after {width: 0;}#sk-container-id-1 div.sk-dashed-wrapped {border: 1px dashed gray;margin: 0 0.4em 0.5em 0.4em;box-sizing: border-box;padding-bottom: 0.4em;background-color: white;}#sk-container-id-1 div.sk-label label {font-family: monospace;font-weight: bold;display: inline-block;line-height: 1.2em;}#sk-container-id-1 div.sk-label-container {text-align: center;}#sk-container-id-1 div.sk-container {/* jupyter's `normalize.less` sets `[hidden] { display: none; }` but bootstrap.min.css set `[hidden] { display: none !important; }` so we also need the `!important` here to be able to override the default hidden behavior on the sphinx rendered scikit-learn.org. See: https://github.com/scikit-learn/scikit-learn/issues/21755 */display: inline-block !important;position: relative;}#sk-container-id-1 div.sk-text-repr-fallback {display: none;}</style><div id=\"sk-container-id-1\" class=\"sk-top-container\"><div class=\"sk-text-repr-fallback\"><pre>LinearRegression()</pre><b>In a Jupyter environment, please rerun this cell to show the HTML representation or trust the notebook. <br />On GitHub, the HTML representation is unable to render, please try loading this page with nbviewer.org.</b></div><div class=\"sk-container\" hidden><div class=\"sk-item\"><div class=\"sk-estimator sk-toggleable\"><input class=\"sk-toggleable__control sk-hidden--visually\" id=\"sk-estimator-id-1\" type=\"checkbox\" checked><label for=\"sk-estimator-id-1\" class=\"sk-toggleable__label sk-toggleable__label-arrow\">LinearRegression</label><div class=\"sk-toggleable__content\"><pre>LinearRegression()</pre></div></div></div></div></div>"
            ]
          },
          "metadata": {},
          "execution_count": 2
        }
      ]
    },
    {
      "cell_type": "code",
      "source": [
        "plt.plot([i[0] for i in xd], [i[0] for i in yd], color=\"blue\", marker=\"o\", linestyle=\"None\")\n",
        "plt.show()"
      ],
      "metadata": {
        "colab": {
          "base_uri": "https://localhost:8080/",
          "height": 265
        },
        "id": "ADflsVImNtcN",
        "outputId": "818eea28-9aa4-460d-9667-39db11c48b61"
      },
      "execution_count": null,
      "outputs": [
        {
          "output_type": "display_data",
          "data": {
            "text/plain": [
              "<Figure size 432x288 with 1 Axes>"
            ],
            "image/png": "[encoded data removed]"
          },
          "metadata": {
            "needs_background": "light"
          }
        }
      ]
    },
    {
      "cell_type": "code",
      "source": [
        "x_new = [[5], [6], [7], [8]]\n",
        "pr = reg.predict(np.array(x_new))\n",
        "pr"
      ],
      "metadata": {
        "colab": {
          "base_uri": "https://localhost:8080/"
        },
        "id": "TkH9M906NwMw",
        "outputId": "2f2357da-007f-4044-bacf-e355cbfc163b"
      },
      "execution_count": null,
      "outputs": [
        {
          "output_type": "execute_result",
          "data": {
            "text/plain": [
              "array([[13.],\n",
              "       [15.],\n",
              "       [17.],\n",
              "       [19.]])"
            ]
          },
          "metadata": {},
          "execution_count": 5
        }
      ]
    },
    {
      "cell_type": "code",
      "source": [
        "plt.plot([i[0] for i in xd], [i[0] for i in yd], color=\"blue\", marker=\"o\", linestyle=\"None\")\n",
        "plt.plot([i[0] for i in x_new], [i[0] for i in pr], color=\"red\", marker=\"o\")\n",
        "plt.show()"
      ],
      "metadata": {
        "colab": {
          "base_uri": "https://localhost:8080/",
          "height": 265
        },
        "id": "WuZEDA6rNzFV",
        "outputId": "1134e219-284e-40ad-b324-59591d83e86f"
      },
      "execution_count": null,
      "outputs": [
        {
          "output_type": "display_data",
          "data": {
            "text/plain": [
              "<Figure size 432x288 with 1 Axes>"
            ],
            "image/png": "[encoded data removed]"
          },
          "metadata": {
            "needs_background": "light"
          }
        }
      ]
    },
    {
      "cell_type": "code",
      "source": [
        "# Mean-squared error\n",
        "y_true = [3, -0.5, 2, 7]\n",
        "y_pred = [2.5, 0.0, 2, 8]\n",
        "print(mean_squared_error(y_true, y_pred))\n"
      ],
      "metadata": {
        "colab": {
          "base_uri": "https://localhost:8080/"
        },
        "id": "I8dac5A9ODLp",
        "outputId": "f63185b0-6e76-4782-f20d-7c26bb8df70b"
      },
      "execution_count": null,
      "outputs": [
        {
          "output_type": "stream",
          "name": "stdout",
          "text": [
            "0.375\n"
          ]
        }
      ]
    },
    {
      "cell_type": "markdown",
      "source": [
        "# Red neuronal Básica\n"
      ],
      "metadata": {
        "id": "u5EanqHPOJP-"
      }
    },
    {
      "cell_type": "code",
      "source": [
        "# Basic Neural Network meant to recieve 32x32 images (Built for MNIST dataset)\n",
        "class Brain(torch.nn.Module): # torch.nn.Module is a base class for all neuronal networks in pytroch\n",
        "    def __init__(self):\n",
        "        super().__init__()\n",
        "\n",
        "        self.c1 = torch.nn.Conv2d(1, 6, 5) # Initial convolution layer 1 input image channel, 6 output channels, 5x5 conv kernel\n",
        "        self.c2 = torch.nn.Conv2d(6, 16, 5) # Second convolution layer 6 input channels, 16 output channels, 5x5 conv kernel\n",
        "\n",
        "        # IMPORTANT: Linear layers are calculated as follows: \n",
        "        # y = xA^T + b\n",
        "        # y is output tensor, x is input tensor, A is trnasoformation tensor of shape (out, 1) where each value represents a node, b is the added bias of shape (out, 1) where each value represents node specific bias\n",
        "\n",
        "        self.l1 = torch.nn.Linear(16*5*5, 120) # Linear layer from 400->120\n",
        "        self.l2 = torch.nn.Linear(120, 84) # Linear layer from 120->84\n",
        "        self.l3 = torch.nn.Linear(84, 10) # Linear layer from 84->10\n",
        "\n",
        "    def forward(self, x):\n",
        "        print(f\"1: {x.shape}\")\n",
        "        \n",
        "        x = self.c1(x)\n",
        "        print(f\"2: {x.shape}\") # new image has size (32-5+1)x(32-5+1) channels 6\n",
        "        \n",
        "        x = torch.nn.functional.max_pool2d(torch.nn.functional.relu(x), (2, 2))\n",
        "        print(f\"3: {x.shape}\") # max pooling reduces space by half along x and y axis so new image is (28/2)x(28/2) channels 6\n",
        "\n",
        "        x = self.c2(x)\n",
        "        print(f\"4: {x.shape}\") # new image has size (14-5+1)x(14-5+1) channels 16\n",
        "\n",
        "        x = torch.nn.functional.max_pool2d(torch.nn.functional.relu(x), (2, 2))\n",
        "        print(f\"5: {x.shape}\") # max pooling reduces space by half along x and y axis so new image is (10/2)x(10/2) channels 16\n",
        "\n",
        "        x = torch.flatten(x, 1)\n",
        "        print(f\"6: {x.shape}\") # flattening along the second dimension (remember indexing starts at 0) provides every image flattened into tensor of 16*5*5\n",
        "\n",
        "        x = torch.nn.functional.relu(self.l1(x))\n",
        "        print(f\"7: {x.shape}\") # normal linear transformation layer from 400 -> 120\n",
        "\n",
        "        x = torch.nn.functional.relu(self.l2(x))\n",
        "        print(f\"8: {x.shape}\") # normal linear transformation layer from 120 -> 84\n",
        "\n",
        "        x = self.l3(x)\n",
        "        print(f\"9: {x.shape}\") # normal linear transformation layer from 84 -> 10\n",
        "\n",
        "        return x\n"
      ],
      "metadata": {
        "id": "kSjL3dMMOSlx"
      },
      "execution_count": 6,
      "outputs": []
    },
    {
      "cell_type": "markdown",
      "source": [
        "Este código define una clase llamada Brain que es una subclase de torch.nn.Module, que es la clase base para todas las redes neuronales en PyTorch. En el método __init__, se definen las capas de la red neuronal: dos capas de convolución (self.c1 y self.c2) y tres capas lineales (self.l1, self.l2 y self.l3). Cada capa de convolución y de línea tiene sus propios parámetros, que se ajustarán durante el entrenamiento de la red neuronal.\n",
        "\n",
        "El método forward define cómo los datos se propagan a través de la red neuronal. Primero, se aplica la capa de convolución self.c1 a los datos de entrada x. Luego, se aplica una función de activación ReLU y una operación de \"max pooling\" (que reduce el tamaño de la imagen a la mitad en ambas dimensiones). A continuación, se aplica la capa de convolución self.c2, seguida de otra función de activación ReLU y una segunda operación de \"max pooling\". Luego, se aplana el tensor resultante y se pasa a través de las capas lineales self.l1, self.l2 y self.l3, con activaciones ReLU entre ellas. Finalmente, se devuelve el tensor resultante de la última capa lineal, que representa la salida de la red neuronal."
      ],
      "metadata": {
        "id": "pV_7fJ9-I4hR"
      }
    },
    {
      "cell_type": "markdown",
      "source": [
        "La decisión de la arquitectura de una red neuronal depende en gran medida del problema específico que se está abordando. En general, se busca diseñar una red que tenga suficiente capacidad para aprender la tarea que se le asigna, pero que no sea demasiado compleja para evitar el sobreajuste.\n",
        "\n",
        "En el caso de la red neuronal presentada en el código, se ha diseñado para clasificar imágenes de dígitos escritos a mano utilizando la base de datos MNIST. La arquitectura de la red consta de dos capas convolucionales y tres capas completamente conectadas (o lineales). La primera capa convolucional tiene 6 filtros, mientras que la segunda tiene 16 filtros. Después de cada capa convolucional, se aplica una operación de max-pooling para reducir la dimensionalidad y capturar características más importantes.\n",
        "\n",
        "Las capas lineales son relativamente más simples y tienen menos parámetros que las capas convolucionales. En este caso, se utilizan tres capas lineales con 120, 84 y 10 unidades, respectivamente. La capa de salida tiene 10 unidades ya que hay 10 posibles clases de dígitos en la base de datos MNIST.\n",
        "\n",
        "La arquitectura específica de la red neuronal se ha diseñado a través de ensayo y error para encontrar una estructura que funcione bien para la tarea de clasificación de dígitos escritos a mano en MNIST."
      ],
      "metadata": {
        "id": "GHxNv0qeJ5GW"
      }
    },
    {
      "cell_type": "code",
      "source": [
        "# Testing plz\n",
        "inp = torch.randn(1, 1, 32, 32)\n",
        "br = Brain()\n",
        "out = br(inp)\n",
        "print(out.shape)\n",
        "print(out) # The torch.nn.Module automatically runs the forward function when passing in arguments directly to class instance\n"
      ],
      "metadata": {
        "id": "kjSJfSkrOXM3"
      },
      "execution_count": null,
      "outputs": []
    },
    {
      "cell_type": "markdown",
      "source": [
        "Este código realiza una prueba o testeo de la red neuronal Brain que se define previamente en el código. Primero, se crea un tensor de prueba inp utilizando la función torch.randn con dimensiones (1, 1, 32, 32) que representa una imagen de tamaño 32x32 con un solo canal (escala de grises) y una sola imagen.\n",
        "\n",
        "Luego, se instancia la clase Brain en la variable br. La instancia de Brain se utiliza para pasar el tensor inp a través de la red neuronal mediante la llamada out = br(inp). La salida de la red neuronal se almacena en la variable out. Finalmente, se imprimen la forma (shape) de la salida y la salida en sí misma.\n",
        "\n",
        "Es importante destacar que la llamada a la instancia de la clase Brain ejecuta automáticamente la función forward que se define en la clase, la cual aplica los pesos y sesgos de las capas de la red neuronal al tensor de entrada inp.\n",
        "\n",
        "\n"
      ],
      "metadata": {
        "id": "xlS9G_ttKTo6"
      }
    },
    {
      "cell_type": "code",
      "source": [
        "# Make dummy data\n",
        "dum = torch.Tensor([-1.2417,  0.3951,  0.8888, -1.7387, -1.9310,  1.0910,  1.1910, -0.3120, 0.5673,  0.6660])\n",
        "dum = dum.view(1, -1)\n"
      ],
      "metadata": {
        "id": "y1UhaISOOXDv"
      },
      "execution_count": null,
      "outputs": []
    },
    {
      "cell_type": "code",
      "source": [
        "loss_func = torch.nn.MSELoss() # Declare a loss function with mean-squared error calc"
      ],
      "metadata": {
        "id": "SF_J6hhHObU-"
      },
      "execution_count": null,
      "outputs": []
    },
    {
      "cell_type": "code",
      "source": [
        "# Start training loop\n",
        "optim = torch.optim.SGD(br.parameters(), lr=0.01)\n",
        "\n",
        "for i in range(3):\n",
        "    optim.zero_grad() # Gradients must be zeroed so they won't be added to each other\n",
        "    out = br(inp) # Get the predicted output\n",
        "    loss = loss_func(out, dum) # get the loss between predicted and target data\n",
        "    loss.backward() # Calculate the backwards propagation gradients\n",
        "    optim.step() # Backwards propagate"
      ],
      "metadata": {
        "id": "tm69600aObMV"
      },
      "execution_count": null,
      "outputs": []
    },
    {
      "cell_type": "markdown",
      "source": [
        "# POO básica para entender la red neuronal"
      ],
      "metadata": {
        "id": "cUrIFlsHLhS0"
      }
    },
    {
      "cell_type": "markdown",
      "source": [
        "La programación orientada a objetos es un paradigma de programación que se enfoca en la creación de objetos. \n",
        "\n",
        "Un **objeto** es una instancia de una clase, que se define como un conjunto de atributos y métodos. \n",
        "\n",
        "Los **atributos** son variables que almacenan información y los métodos son funciones que manipulan los atributos de un objeto o realizan alguna acción específica.\n",
        "\n",
        "En el caso de la red neuronal, la clase se llama ```Brain```, y sus atributos y métodos se definen dentro de la clase. Los atributos son las capas de la red neuronal, y los métodos son las funciones ```__init__``` y ```forward```.\n",
        "\n",
        "Aquí hay algunos ejemplos de cómo se define una clase y se crea un objeto en Python:\n",
        "\n"
      ],
      "metadata": {
        "id": "94Nxw-MmLmOv"
      }
    },
    {
      "cell_type": "code",
      "source": [
        "# Definición de una clase simple\n",
        "class Persona:\n",
        "    def __init__(self, nombre, edad):\n",
        "        self.nombre = nombre\n",
        "        self.edad = edad\n",
        "\n",
        "    def presentarse(self):\n",
        "        print(\"Hola, mi nombre es\", self.nombre, \"y tengo\", self.edad, \"años.\")\n",
        "\n",
        "# Creación de un objeto de la clase Persona\n",
        "persona1 = Persona(\"Juan\", 25)\n"
      ],
      "metadata": {
        "id": "BwSjJ-c2L3WG"
      },
      "execution_count": 1,
      "outputs": []
    },
    {
      "cell_type": "markdown",
      "source": [
        "En este ejemplo, ```Persona``` es la clase y ```nombre``` y ```edad``` son los atributos. El método ```__init__``` es el constructor de la clase, que se ejecuta automáticamente al crear un objeto de la clase. El método presentarse es un método que imprime información sobre la persona.\n",
        "\n",
        "Para acceder a los atributos y métodos de un objeto, se utiliza la notación de punto. Por ejemplo:"
      ],
      "metadata": {
        "id": "WzCYOTupMCE_"
      }
    },
    {
      "cell_type": "code",
      "source": [
        "# Acceder al atributo nombre del objeto persona1\n",
        "print(persona1.nombre)\n",
        "\n",
        "# Llamar al método presentarse del objeto persona1\n",
        "persona1.presentarse()\n"
      ],
      "metadata": {
        "colab": {
          "base_uri": "https://localhost:8080/"
        },
        "id": "4t082fUmMa9m",
        "outputId": "075dd704-36f5-4e9b-dbd2-9dc8857a2895"
      },
      "execution_count": 2,
      "outputs": [
        {
          "output_type": "stream",
          "name": "stdout",
          "text": [
            "Juan\n",
            "Hola, mi nombre es Juan y tengo 25 años.\n"
          ]
        }
      ]
    },
    {
      "cell_type": "markdown",
      "source": [
        "En el caso de la red neuronal, se crea un objeto de la clase ```Brain``` y se llama al método ```forward``` para hacer una predicción con la red neuronal.\n",
        "\n"
      ],
      "metadata": {
        "id": "V8FTeYUGMkOA"
      }
    },
    {
      "cell_type": "code",
      "source": [
        "# Crear un objeto de la clase Brain\n",
        "br = Brain()\n",
        "\n",
        "# Hacer una predicción con la red neuronal\n",
        "inp = torch.randn(1, 1, 32, 32)\n",
        "out = br(inp)\n",
        "print(out.shape)\n"
      ],
      "metadata": {
        "colab": {
          "base_uri": "https://localhost:8080/"
        },
        "id": "ssIof-bsMkj4",
        "outputId": "5c419dc7-8d7a-4854-a8a9-12bc6038985d"
      },
      "execution_count": 7,
      "outputs": [
        {
          "output_type": "stream",
          "name": "stdout",
          "text": [
            "1: torch.Size([1, 1, 32, 32])\n",
            "2: torch.Size([1, 6, 28, 28])\n",
            "3: torch.Size([1, 6, 14, 14])\n",
            "4: torch.Size([1, 16, 10, 10])\n",
            "5: torch.Size([1, 16, 5, 5])\n",
            "6: torch.Size([1, 400])\n",
            "7: torch.Size([1, 120])\n",
            "8: torch.Size([1, 84])\n",
            "9: torch.Size([1, 10])\n",
            "torch.Size([1, 10])\n"
          ]
        }
      ]
    },
    {
      "cell_type": "markdown",
      "source": [
        "En este ejemplo, ```br``` es el objeto de la clase ```Brain```. El método ```forward``` es llamado pasando ```inp``` como argumento para hacer una predicción con la red neuronal. La variable ```out``` almacena el resultado de la predicción y se imprime su forma.\n"
      ],
      "metadata": {
        "id": "xAx9amtwNBta"
      }
    },
    {
      "cell_type": "markdown",
      "source": [
        "La línea print(out.shape) imprime la forma o tamaño de la salida de la red neuronal, que es un tensor. En el caso de este código, como se ha utilizado un tensor de entrada de tamaño (1, 1, 32, 32), la forma de la salida será (1, 10), lo que indica que la salida es un tensor con una dimensión de tamaño 1 y otra dimensión de tamaño 10. Esto significa que la red neuronal ha producido una clasificación de probabilidad para cada una de las 10 posibles clases de dígitos (0 a 9)."
      ],
      "metadata": {
        "id": "PsrP4mvENn_e"
      }
    },
    {
      "cell_type": "markdown",
      "source": [
        "---"
      ],
      "metadata": {
        "id": "mZF2f46OQpLq"
      }
    },
    {
      "cell_type": "markdown",
      "source": [
        "## Primeras dos capas\n"
      ],
      "metadata": {
        "id": "oKXzZHQ-Qqni"
      }
    },
    {
      "cell_type": "code",
      "source": [
        "self.c1 = torch.nn.Conv2d(1, 6, 5) # Initial convolution layer 1 input image channel, 6 output channels, 5x5 conv kernel\n",
        "self.c2 = torch.nn.Conv2d(6, 16, 5) # Second convolution layer 6 input channels, 16 output channels, 5x5 conv kernel"
      ],
      "metadata": {
        "id": "6Er4thNgQ0zv"
      },
      "execution_count": null,
      "outputs": []
    },
    {
      "cell_type": "markdown",
      "source": [
        "En la red neuronal convolucional definida, se utilizan dos capas convolucionales: ```self.c1``` y ```self.c2```.\n",
        "\n",
        "```self.c1``` utiliza una convolución con un kernel de tamaño 5x5, un solo canal de entrada (ya que las imágenes de entrada son en escala de grises), y produce 6 canales de salida. En otras palabras, cada imagen de entrada se convoluciona con 6 filtros de tamaño 5x5 para producir 6 mapas de características.\n",
        "\n",
        "```self.c2``` utiliza una convolución con un kernel de tamaño 5x5, 6 canales de entrada (ya que cada una de las 6 características producidas por self.c1 se utiliza como entrada), y produce 16 canales de salida. En otras palabras, cada uno de los 6 mapas de características producidos por self.c1 se convoluciona con 16 filtros de tamaño 5x5 para producir 16 nuevos mapas de características.\n",
        "\n",
        "En resumen, self.c1 y self.c2 se utilizan para extraer características de las imágenes de entrada mediante la convolución con filtros específicos. Cada capa produce múltiples canales de salida, que se utilizan como entrada para la siguiente capa."
      ],
      "metadata": {
        "id": "6K2Oiz8DQ5LJ"
      }
    },
    {
      "cell_type": "markdown",
      "source": [
        "# Capas 3, 4 y 5"
      ],
      "metadata": {
        "id": "Xu673dqVRL45"
      }
    },
    {
      "cell_type": "code",
      "source": [
        "self.l1 = torch.nn.Linear(16*5*5, 120) # Linear layer from 400->120\n",
        "self.l2 = torch.nn.Linear(120, 84) # Linear layer from 120->84\n",
        "self.l3 = torch.nn.Linear(84, 10) # Linear layer from 84->10"
      ],
      "metadata": {
        "id": "M1i8UeRuRKQ3"
      },
      "execution_count": null,
      "outputs": []
    },
    {
      "cell_type": "markdown",
      "source": [
        "Estas líneas de código definen capas de tipo \"linear\" (también conocidas como \"fully connected layers\") que transforman la entrada recibida en una nueva salida.\n",
        "\n",
        "La primera línea define una capa lineal que toma como entrada un tensor de tamaño 16x5x5 (es decir, 16 canales de imagen con tamaño 5x5) y lo transforma en una salida de tamaño 120. La entrada 16x5x5 viene de la última capa de convolución, que produce 16 canales de imagen de tamaño 5x5.\n",
        "\n",
        "La segunda línea define otra capa lineal que toma una entrada de tamaño 120 y la transforma en una salida de tamaño 84.\n",
        "\n",
        "La tercera línea define una capa lineal final que toma una entrada de tamaño 84 y la transforma en una salida de tamaño 10, que representa la cantidad de posibles dígitos que el modelo puede reconocer (del 0 al 9)."
      ],
      "metadata": {
        "id": "sVRz86AbR45l"
      }
    },
    {
      "cell_type": "markdown",
      "source": [
        "## maxpooling y relu / funcion de activacion"
      ],
      "metadata": {
        "id": "b835Lt9-TtO3"
      }
    },
    {
      "cell_type": "code",
      "source": [
        "torch.nn.functional.max_pool2d(torch.nn.functional.relu(x), (2, 2))"
      ],
      "metadata": {
        "id": "M0zWMpODTzwR"
      },
      "execution_count": null,
      "outputs": []
    },
    {
      "cell_type": "markdown",
      "source": [
        "Se hace maxpooling y función de activación al mismo tiempo en la red neuronal convolucional para ayudar a reducir el tamaño de la imagen y extraer las características más importantes de la misma. \n",
        "\n",
        "La función de activación, en este caso ReLU, se aplica primero para activar los píxeles positivos y establecer los negativos a cero. Luego, el maxpooling se aplica para reducir el tamaño de la imagen, tomando el valor máximo de una región de píxeles en lugar de todos los píxeles en la región. Esto ayuda a reducir el tamaño de la imagen y extraer las características más importantes de la misma. Al hacerlo juntos, se puede mejorar la eficiencia computacional y la precisión de la red neuronal convolucional."
      ],
      "metadata": {
        "id": "xhvtfb-oTyyt"
      }
    }
  ]
}